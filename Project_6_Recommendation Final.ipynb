{
  "nbformat": 4,
  "nbformat_minor": 0,
  "metadata": {
    "colab": {
      "name": "Project 6 Recommendation.ipynb",
      "provenance": [],
      "collapsed_sections": [],
      "authorship_tag": "ABX9TyN96myAE8EG+BM4ypziLuWu",
      "include_colab_link": true
    },
    "kernelspec": {
      "name": "python3",
      "display_name": "Python 3"
    }
  },
  "cells": [
    {
      "cell_type": "markdown",
      "metadata": {
        "id": "view-in-github",
        "colab_type": "text"
      },
      "source": [
        "<a href=\"https://colab.research.google.com/github/sarigiri/Capstone_project_2/blob/master/Project_6_Recommendation%20Final.ipynb\" target=\"_parent\"><img src=\"https://colab.research.google.com/assets/colab-badge.svg\" alt=\"Open In Colab\"/></a>"
      ]
    },
    {
      "cell_type": "code",
      "metadata": {
        "id": "_hU4TCZPlpVv",
        "colab_type": "code",
        "colab": {
          "base_uri": "https://localhost:8080/",
          "height": 71
        },
        "outputId": "51fb778f-80c0-40c0-cce0-a5f16df997f3"
      },
      "source": [
        "import pandas as pd\n",
        "import numpy as np\n",
        "import matplotlib.pyplot as plt\n",
        "%matplotlib inline \n",
        "import seaborn as sns\n",
        "from sklearn.model_selection import train_test_split"
      ],
      "execution_count": 3,
      "outputs": [
        {
          "output_type": "stream",
          "text": [
            "/usr/local/lib/python3.6/dist-packages/statsmodels/tools/_testing.py:19: FutureWarning: pandas.util.testing is deprecated. Use the functions in the public API at pandas.testing instead.\n",
            "  import pandas.util.testing as tm\n"
          ],
          "name": "stderr"
        }
      ]
    },
    {
      "cell_type": "markdown",
      "metadata": {
        "id": "9Ae9vFpLTqSg",
        "colab_type": "text"
      },
      "source": [
        "# 1. Read and explore the given dataset. ( Rename column/add headers, plot histograms, find data characteristics) ( 3 Marks)"
      ]
    },
    {
      "cell_type": "code",
      "metadata": {
        "id": "O6HcAIbR_man",
        "colab_type": "code",
        "colab": {
          "base_uri": "https://localhost:8080/",
          "height": 204
        },
        "outputId": "5a111429-148b-48e3-9f66-615b18f19578"
      },
      "source": [
        "ratings_data = pd.read_csv(\"ratings_Electronics.csv\")  \n",
        "ratings_data.head() "
      ],
      "execution_count": 4,
      "outputs": [
        {
          "output_type": "execute_result",
          "data": {
            "text/html": [
              "<div>\n",
              "<style scoped>\n",
              "    .dataframe tbody tr th:only-of-type {\n",
              "        vertical-align: middle;\n",
              "    }\n",
              "\n",
              "    .dataframe tbody tr th {\n",
              "        vertical-align: top;\n",
              "    }\n",
              "\n",
              "    .dataframe thead th {\n",
              "        text-align: right;\n",
              "    }\n",
              "</style>\n",
              "<table border=\"1\" class=\"dataframe\">\n",
              "  <thead>\n",
              "    <tr style=\"text-align: right;\">\n",
              "      <th></th>\n",
              "      <th>AKM1MP6P0OYPR</th>\n",
              "      <th>0132793040</th>\n",
              "      <th>5.0</th>\n",
              "      <th>1365811200</th>\n",
              "    </tr>\n",
              "  </thead>\n",
              "  <tbody>\n",
              "    <tr>\n",
              "      <th>0</th>\n",
              "      <td>A2CX7LUOHB2NDG</td>\n",
              "      <td>0321732944</td>\n",
              "      <td>5.0</td>\n",
              "      <td>1341100800</td>\n",
              "    </tr>\n",
              "    <tr>\n",
              "      <th>1</th>\n",
              "      <td>A2NWSAGRHCP8N5</td>\n",
              "      <td>0439886341</td>\n",
              "      <td>1.0</td>\n",
              "      <td>1367193600</td>\n",
              "    </tr>\n",
              "    <tr>\n",
              "      <th>2</th>\n",
              "      <td>A2WNBOD3WNDNKT</td>\n",
              "      <td>0439886341</td>\n",
              "      <td>3.0</td>\n",
              "      <td>1374451200</td>\n",
              "    </tr>\n",
              "    <tr>\n",
              "      <th>3</th>\n",
              "      <td>A1GI0U4ZRJA8WN</td>\n",
              "      <td>0439886341</td>\n",
              "      <td>1.0</td>\n",
              "      <td>1334707200</td>\n",
              "    </tr>\n",
              "    <tr>\n",
              "      <th>4</th>\n",
              "      <td>A1QGNMC6O1VW39</td>\n",
              "      <td>0511189877</td>\n",
              "      <td>5.0</td>\n",
              "      <td>1397433600</td>\n",
              "    </tr>\n",
              "  </tbody>\n",
              "</table>\n",
              "</div>"
            ],
            "text/plain": [
              "    AKM1MP6P0OYPR  0132793040  5.0  1365811200\n",
              "0  A2CX7LUOHB2NDG  0321732944  5.0  1341100800\n",
              "1  A2NWSAGRHCP8N5  0439886341  1.0  1367193600\n",
              "2  A2WNBOD3WNDNKT  0439886341  3.0  1374451200\n",
              "3  A1GI0U4ZRJA8WN  0439886341  1.0  1334707200\n",
              "4  A1QGNMC6O1VW39  0511189877  5.0  1397433600"
            ]
          },
          "metadata": {
            "tags": []
          },
          "execution_count": 4
        }
      ]
    },
    {
      "cell_type": "code",
      "metadata": {
        "id": "WXeVYc37R6n6",
        "colab_type": "code",
        "colab": {
          "base_uri": "https://localhost:8080/",
          "height": 34
        },
        "outputId": "99346f8f-71a9-45bb-bbca-3cd7427ee571"
      },
      "source": [
        "# There are no column headings in this dataset\n",
        "# Let's add column headers\n",
        "# pass in column names for each CSV as the column name is not given in the file and read them using pandas.\n",
        "# You can check the column names from the readme file\n",
        "\n",
        "# reading users file:\n",
        "cols = ['userId', 'productId', 'rating', 'timestamp']\n",
        "ratings_data = pd.read_csv('ratings_Electronics.csv', sep=',', names=cols,encoding='latin-1')\n",
        "\n",
        "ratings_data.columns.str.strip()\n"
      ],
      "execution_count": 5,
      "outputs": [
        {
          "output_type": "execute_result",
          "data": {
            "text/plain": [
              "Index(['userId', 'productId', 'rating', 'timestamp'], dtype='object')"
            ]
          },
          "metadata": {
            "tags": []
          },
          "execution_count": 5
        }
      ]
    },
    {
      "cell_type": "code",
      "metadata": {
        "id": "8NbpknsAR38F",
        "colab_type": "code",
        "colab": {
          "base_uri": "https://localhost:8080/",
          "height": 34
        },
        "outputId": "08f4ba00-426a-41d3-b073-26100f9d6f68"
      },
      "source": [
        "ratings_data.shape #Check for total data length and no of columns"
      ],
      "execution_count": 6,
      "outputs": [
        {
          "output_type": "execute_result",
          "data": {
            "text/plain": [
              "(7824482, 4)"
            ]
          },
          "metadata": {
            "tags": []
          },
          "execution_count": 6
        }
      ]
    },
    {
      "cell_type": "code",
      "metadata": {
        "id": "W6YToHn_AkbI",
        "colab_type": "code",
        "colab": {
          "base_uri": "https://localhost:8080/",
          "height": 204
        },
        "outputId": "faea6344-0d6a-4ced-d98d-d0056fd73daa"
      },
      "source": [
        "ratings_data.info()"
      ],
      "execution_count": 7,
      "outputs": [
        {
          "output_type": "stream",
          "text": [
            "<class 'pandas.core.frame.DataFrame'>\n",
            "RangeIndex: 7824482 entries, 0 to 7824481\n",
            "Data columns (total 4 columns):\n",
            " #   Column     Dtype  \n",
            "---  ------     -----  \n",
            " 0   userId     object \n",
            " 1   productId  object \n",
            " 2   rating     float64\n",
            " 3   timestamp  int64  \n",
            "dtypes: float64(1), int64(1), object(2)\n",
            "memory usage: 238.8+ MB\n"
          ],
          "name": "stdout"
        }
      ]
    },
    {
      "cell_type": "code",
      "metadata": {
        "id": "tUeHN1K6_mg4",
        "colab_type": "code",
        "colab": {
          "base_uri": "https://localhost:8080/",
          "height": 34
        },
        "outputId": "d4f7de5d-d0db-412c-f148-5cec7c65dbe4"
      },
      "source": [
        "#Check if there are any duplicate records\n",
        "sum(ratings_data.duplicated())"
      ],
      "execution_count": 8,
      "outputs": [
        {
          "output_type": "execute_result",
          "data": {
            "text/plain": [
              "0"
            ]
          },
          "metadata": {
            "tags": []
          },
          "execution_count": 8
        }
      ]
    },
    {
      "cell_type": "markdown",
      "metadata": {
        "id": "EsvD7gbVWfKJ",
        "colab_type": "text"
      },
      "source": [
        "There are no duplicate records in the dataset"
      ]
    },
    {
      "cell_type": "code",
      "metadata": {
        "id": "dWr7XEXNZuF2",
        "colab_type": "code",
        "colab": {
          "base_uri": "https://localhost:8080/",
          "height": 102
        },
        "outputId": "0d6c1205-e4f1-4af8-a48a-35401d2ca62e"
      },
      "source": [
        "ratings_data.isnull().sum() # check if there are any missing values"
      ],
      "execution_count": 9,
      "outputs": [
        {
          "output_type": "execute_result",
          "data": {
            "text/plain": [
              "userId       0\n",
              "productId    0\n",
              "rating       0\n",
              "timestamp    0\n",
              "dtype: int64"
            ]
          },
          "metadata": {
            "tags": []
          },
          "execution_count": 9
        }
      ]
    },
    {
      "cell_type": "markdown",
      "metadata": {
        "id": "yHQPXPaOWZ4d",
        "colab_type": "text"
      },
      "source": [
        "There are no missing values in this dataset"
      ]
    },
    {
      "cell_type": "code",
      "metadata": {
        "id": "FiqQeDByLAIz",
        "colab_type": "code",
        "colab": {
          "base_uri": "https://localhost:8080/",
          "height": 68
        },
        "outputId": "f8437274-cd1e-4af3-ebf7-93919f635c15"
      },
      "source": [
        "print('No. of Unique Users    :', ratings_data.userId.nunique())\n",
        "print('No. of Unique Products :', ratings_data.productId.nunique())\n",
        "print('No. of Unique Ratings  :', ratings_data.rating.nunique())"
      ],
      "execution_count": 10,
      "outputs": [
        {
          "output_type": "stream",
          "text": [
            "No. of Unique Users    : 4201696\n",
            "No. of Unique Products : 476002\n",
            "No. of Unique Ratings  : 5\n"
          ],
          "name": "stdout"
        }
      ]
    },
    {
      "cell_type": "code",
      "metadata": {
        "id": "VOqjB7mBVh95",
        "colab_type": "code",
        "colab": {
          "base_uri": "https://localhost:8080/",
          "height": 297
        },
        "outputId": "99ef9a0f-ff61-4cce-e41a-e6d25eb3c145"
      },
      "source": [
        "ratings_data.describe()"
      ],
      "execution_count": 11,
      "outputs": [
        {
          "output_type": "execute_result",
          "data": {
            "text/html": [
              "<div>\n",
              "<style scoped>\n",
              "    .dataframe tbody tr th:only-of-type {\n",
              "        vertical-align: middle;\n",
              "    }\n",
              "\n",
              "    .dataframe tbody tr th {\n",
              "        vertical-align: top;\n",
              "    }\n",
              "\n",
              "    .dataframe thead th {\n",
              "        text-align: right;\n",
              "    }\n",
              "</style>\n",
              "<table border=\"1\" class=\"dataframe\">\n",
              "  <thead>\n",
              "    <tr style=\"text-align: right;\">\n",
              "      <th></th>\n",
              "      <th>rating</th>\n",
              "      <th>timestamp</th>\n",
              "    </tr>\n",
              "  </thead>\n",
              "  <tbody>\n",
              "    <tr>\n",
              "      <th>count</th>\n",
              "      <td>7.824482e+06</td>\n",
              "      <td>7.824482e+06</td>\n",
              "    </tr>\n",
              "    <tr>\n",
              "      <th>mean</th>\n",
              "      <td>4.012337e+00</td>\n",
              "      <td>1.338178e+09</td>\n",
              "    </tr>\n",
              "    <tr>\n",
              "      <th>std</th>\n",
              "      <td>1.380910e+00</td>\n",
              "      <td>6.900426e+07</td>\n",
              "    </tr>\n",
              "    <tr>\n",
              "      <th>min</th>\n",
              "      <td>1.000000e+00</td>\n",
              "      <td>9.127296e+08</td>\n",
              "    </tr>\n",
              "    <tr>\n",
              "      <th>25%</th>\n",
              "      <td>3.000000e+00</td>\n",
              "      <td>1.315354e+09</td>\n",
              "    </tr>\n",
              "    <tr>\n",
              "      <th>50%</th>\n",
              "      <td>5.000000e+00</td>\n",
              "      <td>1.361059e+09</td>\n",
              "    </tr>\n",
              "    <tr>\n",
              "      <th>75%</th>\n",
              "      <td>5.000000e+00</td>\n",
              "      <td>1.386115e+09</td>\n",
              "    </tr>\n",
              "    <tr>\n",
              "      <th>max</th>\n",
              "      <td>5.000000e+00</td>\n",
              "      <td>1.406074e+09</td>\n",
              "    </tr>\n",
              "  </tbody>\n",
              "</table>\n",
              "</div>"
            ],
            "text/plain": [
              "             rating     timestamp\n",
              "count  7.824482e+06  7.824482e+06\n",
              "mean   4.012337e+00  1.338178e+09\n",
              "std    1.380910e+00  6.900426e+07\n",
              "min    1.000000e+00  9.127296e+08\n",
              "25%    3.000000e+00  1.315354e+09\n",
              "50%    5.000000e+00  1.361059e+09\n",
              "75%    5.000000e+00  1.386115e+09\n",
              "max    5.000000e+00  1.406074e+09"
            ]
          },
          "metadata": {
            "tags": []
          },
          "execution_count": 11
        }
      ]
    },
    {
      "cell_type": "code",
      "metadata": {
        "id": "-SX_MgNRSLXe",
        "colab_type": "code",
        "colab": {
          "base_uri": "https://localhost:8080/",
          "height": 290
        },
        "outputId": "f58c73c6-a7e6-42fa-cdae-e51546bb41bc"
      },
      "source": [
        "#plotting count of bookRating\n",
        "sns.countplot(data=ratings_data , x='rating')\n",
        "plt.show()\n",
        "#It can be seen that higher ratings are more common amongst users and rating 5 has been rated highest number of times"
      ],
      "execution_count": 12,
      "outputs": [
        {
          "output_type": "display_data",
          "data": {
            "image/png": "[encoded data removed]",
            "text/plain": [
              "<Figure size 432x288 with 1 Axes>"
            ]
          },
          "metadata": {
            "tags": [],
            "needs_background": "light"
          }
        }
      ]
    },
    {
      "cell_type": "markdown",
      "metadata": {
        "id": "rFi_XxV5TvY6",
        "colab_type": "text"
      },
      "source": [
        "# 2. Take a subset of the dataset to make it less sparse/denser. ( For example, keep the users only who has given 50 or more number of ratings ) -(5 Marks)"
      ]
    },
    {
      "cell_type": "code",
      "metadata": {
        "id": "TnVhX-HfVabR",
        "colab_type": "code",
        "colab": {
          "base_uri": "https://localhost:8080/",
          "height": 204
        },
        "outputId": "085a0f5c-eb09-4dff-d731-f02b383caa8b"
      },
      "source": [
        "ratings_data.reset_index(inplace=True)\n",
        "ratings_data.drop(columns=['index'],inplace=True)\n",
        "ratings_data.head()"
      ],
      "execution_count": 13,
      "outputs": [
        {
          "output_type": "execute_result",
          "data": {
            "text/html": [
              "<div>\n",
              "<style scoped>\n",
              "    .dataframe tbody tr th:only-of-type {\n",
              "        vertical-align: middle;\n",
              "    }\n",
              "\n",
              "    .dataframe tbody tr th {\n",
              "        vertical-align: top;\n",
              "    }\n",
              "\n",
              "    .dataframe thead th {\n",
              "        text-align: right;\n",
              "    }\n",
              "</style>\n",
              "<table border=\"1\" class=\"dataframe\">\n",
              "  <thead>\n",
              "    <tr style=\"text-align: right;\">\n",
              "      <th></th>\n",
              "      <th>userId</th>\n",
              "      <th>productId</th>\n",
              "      <th>rating</th>\n",
              "      <th>timestamp</th>\n",
              "    </tr>\n",
              "  </thead>\n",
              "  <tbody>\n",
              "    <tr>\n",
              "      <th>0</th>\n",
              "      <td>AKM1MP6P0OYPR</td>\n",
              "      <td>0132793040</td>\n",
              "      <td>5.0</td>\n",
              "      <td>1365811200</td>\n",
              "    </tr>\n",
              "    <tr>\n",
              "      <th>1</th>\n",
              "      <td>A2CX7LUOHB2NDG</td>\n",
              "      <td>0321732944</td>\n",
              "      <td>5.0</td>\n",
              "      <td>1341100800</td>\n",
              "    </tr>\n",
              "    <tr>\n",
              "      <th>2</th>\n",
              "      <td>A2NWSAGRHCP8N5</td>\n",
              "      <td>0439886341</td>\n",
              "      <td>1.0</td>\n",
              "      <td>1367193600</td>\n",
              "    </tr>\n",
              "    <tr>\n",
              "      <th>3</th>\n",
              "      <td>A2WNBOD3WNDNKT</td>\n",
              "      <td>0439886341</td>\n",
              "      <td>3.0</td>\n",
              "      <td>1374451200</td>\n",
              "    </tr>\n",
              "    <tr>\n",
              "      <th>4</th>\n",
              "      <td>A1GI0U4ZRJA8WN</td>\n",
              "      <td>0439886341</td>\n",
              "      <td>1.0</td>\n",
              "      <td>1334707200</td>\n",
              "    </tr>\n",
              "  </tbody>\n",
              "</table>\n",
              "</div>"
            ],
            "text/plain": [
              "           userId   productId  rating   timestamp\n",
              "0   AKM1MP6P0OYPR  0132793040     5.0  1365811200\n",
              "1  A2CX7LUOHB2NDG  0321732944     5.0  1341100800\n",
              "2  A2NWSAGRHCP8N5  0439886341     1.0  1367193600\n",
              "3  A2WNBOD3WNDNKT  0439886341     3.0  1374451200\n",
              "4  A1GI0U4ZRJA8WN  0439886341     1.0  1334707200"
            ]
          },
          "metadata": {
            "tags": []
          },
          "execution_count": 13
        }
      ]
    },
    {
      "cell_type": "code",
      "metadata": {
        "id": "Oulbjzcvmn17",
        "colab_type": "code",
        "colab": {}
      },
      "source": [
        "#Since the timestamp column is not needed, we can drop it\n",
        "ratings_data.drop(columns='timestamp',inplace=True)"
      ],
      "execution_count": 14,
      "outputs": []
    },
    {
      "cell_type": "code",
      "metadata": {
        "id": "fPox_sMY_mr7",
        "colab_type": "code",
        "colab": {
          "base_uri": "https://localhost:8080/",
          "height": 390
        },
        "outputId": "c25bb153-52a8-498f-cc27-513501d9159c"
      },
      "source": [
        "ratings_user_summary = ratings_data.groupby('userId')['rating'].agg(['count', 'mean', 'std'])\n",
        "ratings_user_summary.head(10)"
      ],
      "execution_count": 71,
      "outputs": [
        {
          "output_type": "execute_result",
          "data": {
            "text/html": [
              "<div>\n",
              "<style scoped>\n",
              "    .dataframe tbody tr th:only-of-type {\n",
              "        vertical-align: middle;\n",
              "    }\n",
              "\n",
              "    .dataframe tbody tr th {\n",
              "        vertical-align: top;\n",
              "    }\n",
              "\n",
              "    .dataframe thead th {\n",
              "        text-align: right;\n",
              "    }\n",
              "</style>\n",
              "<table border=\"1\" class=\"dataframe\">\n",
              "  <thead>\n",
              "    <tr style=\"text-align: right;\">\n",
              "      <th></th>\n",
              "      <th>count</th>\n",
              "      <th>mean</th>\n",
              "      <th>std</th>\n",
              "    </tr>\n",
              "    <tr>\n",
              "      <th>userId</th>\n",
              "      <th></th>\n",
              "      <th></th>\n",
              "      <th></th>\n",
              "    </tr>\n",
              "  </thead>\n",
              "  <tbody>\n",
              "    <tr>\n",
              "      <th>A00000262KYZUE4J55XGL</th>\n",
              "      <td>1</td>\n",
              "      <td>5.0</td>\n",
              "      <td>NaN</td>\n",
              "    </tr>\n",
              "    <tr>\n",
              "      <th>A000063614T1OE0BUSKUT</th>\n",
              "      <td>2</td>\n",
              "      <td>5.0</td>\n",
              "      <td>0.0</td>\n",
              "    </tr>\n",
              "    <tr>\n",
              "      <th>A00009182QVLSWIGHLS1B</th>\n",
              "      <td>1</td>\n",
              "      <td>5.0</td>\n",
              "      <td>NaN</td>\n",
              "    </tr>\n",
              "    <tr>\n",
              "      <th>A00009661LC9LQPGKJ24G</th>\n",
              "      <td>1</td>\n",
              "      <td>5.0</td>\n",
              "      <td>NaN</td>\n",
              "    </tr>\n",
              "    <tr>\n",
              "      <th>A00010809P09NUU6ZP6H</th>\n",
              "      <td>1</td>\n",
              "      <td>5.0</td>\n",
              "      <td>NaN</td>\n",
              "    </tr>\n",
              "    <tr>\n",
              "      <th>A00014061C2IZNE0YEILY</th>\n",
              "      <td>1</td>\n",
              "      <td>4.0</td>\n",
              "      <td>NaN</td>\n",
              "    </tr>\n",
              "    <tr>\n",
              "      <th>A000145014WOTZJ5NSKOR</th>\n",
              "      <td>1</td>\n",
              "      <td>5.0</td>\n",
              "      <td>NaN</td>\n",
              "    </tr>\n",
              "    <tr>\n",
              "      <th>A00015222LZ55IJSVL5IX</th>\n",
              "      <td>1</td>\n",
              "      <td>1.0</td>\n",
              "      <td>NaN</td>\n",
              "    </tr>\n",
              "    <tr>\n",
              "      <th>A00015228CUPGPF957DS</th>\n",
              "      <td>1</td>\n",
              "      <td>1.0</td>\n",
              "      <td>NaN</td>\n",
              "    </tr>\n",
              "    <tr>\n",
              "      <th>A0001528BGUBOEVR6T5U</th>\n",
              "      <td>4</td>\n",
              "      <td>4.5</td>\n",
              "      <td>1.0</td>\n",
              "    </tr>\n",
              "  </tbody>\n",
              "</table>\n",
              "</div>"
            ],
            "text/plain": [
              "                       count  mean  std\n",
              "userId                                 \n",
              "A00000262KYZUE4J55XGL      1   5.0  NaN\n",
              "A000063614T1OE0BUSKUT      2   5.0  0.0\n",
              "A00009182QVLSWIGHLS1B      1   5.0  NaN\n",
              "A00009661LC9LQPGKJ24G      1   5.0  NaN\n",
              "A00010809P09NUU6ZP6H       1   5.0  NaN\n",
              "A00014061C2IZNE0YEILY      1   4.0  NaN\n",
              "A000145014WOTZJ5NSKOR      1   5.0  NaN\n",
              "A00015222LZ55IJSVL5IX      1   1.0  NaN\n",
              "A00015228CUPGPF957DS       1   1.0  NaN\n",
              "A0001528BGUBOEVR6T5U       4   4.5  1.0"
            ]
          },
          "metadata": {
            "tags": []
          },
          "execution_count": 71
        }
      ]
    },
    {
      "cell_type": "code",
      "metadata": {
        "id": "2n7BWdbwYrNF",
        "colab_type": "code",
        "colab": {
          "base_uri": "https://localhost:8080/",
          "height": 293
        },
        "outputId": "011b596d-2304-45c5-fab4-32f585c32a18"
      },
      "source": [
        "ratings_user_summary.sort_values(by='count')['count'].hist(bins=20)"
      ],
      "execution_count": 72,
      "outputs": [
        {
          "output_type": "execute_result",
          "data": {
            "text/plain": [
              "<matplotlib.axes._subplots.AxesSubplot at 0x7f4ab6b6bc18>"
            ]
          },
          "metadata": {
            "tags": []
          },
          "execution_count": 72
        },
        {
          "output_type": "display_data",
          "data": {
            "image/png": "[encoded data removed]",
            "text/plain": [
              "<Figure size 432x288 with 1 Axes>"
            ]
          },
          "metadata": {
            "tags": [],
            "needs_background": "light"
          }
        }
      ]
    },
    {
      "cell_type": "code",
      "metadata": {
        "id": "H8qoXeGXTaYC",
        "colab_type": "code",
        "colab": {
          "base_uri": "https://localhost:8080/",
          "height": 390
        },
        "outputId": "e7a73bae-cd31-4257-8bc1-8722eddd154f"
      },
      "source": [
        "ratings_product_summary = ratings_data.groupby('productId')['rating'].agg(['count', 'mean', 'std'])\n",
        "ratings_product_summary.head(10)"
      ],
      "execution_count": 73,
      "outputs": [
        {
          "output_type": "execute_result",
          "data": {
            "text/html": [
              "<div>\n",
              "<style scoped>\n",
              "    .dataframe tbody tr th:only-of-type {\n",
              "        vertical-align: middle;\n",
              "    }\n",
              "\n",
              "    .dataframe tbody tr th {\n",
              "        vertical-align: top;\n",
              "    }\n",
              "\n",
              "    .dataframe thead th {\n",
              "        text-align: right;\n",
              "    }\n",
              "</style>\n",
              "<table border=\"1\" class=\"dataframe\">\n",
              "  <thead>\n",
              "    <tr style=\"text-align: right;\">\n",
              "      <th></th>\n",
              "      <th>count</th>\n",
              "      <th>mean</th>\n",
              "      <th>std</th>\n",
              "    </tr>\n",
              "    <tr>\n",
              "      <th>productId</th>\n",
              "      <th></th>\n",
              "      <th></th>\n",
              "      <th></th>\n",
              "    </tr>\n",
              "  </thead>\n",
              "  <tbody>\n",
              "    <tr>\n",
              "      <th>0132793040</th>\n",
              "      <td>1</td>\n",
              "      <td>5.000000</td>\n",
              "      <td>NaN</td>\n",
              "    </tr>\n",
              "    <tr>\n",
              "      <th>0321732944</th>\n",
              "      <td>1</td>\n",
              "      <td>5.000000</td>\n",
              "      <td>NaN</td>\n",
              "    </tr>\n",
              "    <tr>\n",
              "      <th>0439886341</th>\n",
              "      <td>3</td>\n",
              "      <td>1.666667</td>\n",
              "      <td>1.154701</td>\n",
              "    </tr>\n",
              "    <tr>\n",
              "      <th>0511189877</th>\n",
              "      <td>6</td>\n",
              "      <td>4.500000</td>\n",
              "      <td>1.224745</td>\n",
              "    </tr>\n",
              "    <tr>\n",
              "      <th>0528881469</th>\n",
              "      <td>27</td>\n",
              "      <td>2.851852</td>\n",
              "      <td>1.680286</td>\n",
              "    </tr>\n",
              "    <tr>\n",
              "      <th>0558835155</th>\n",
              "      <td>1</td>\n",
              "      <td>3.000000</td>\n",
              "      <td>NaN</td>\n",
              "    </tr>\n",
              "    <tr>\n",
              "      <th>059400232X</th>\n",
              "      <td>3</td>\n",
              "      <td>5.000000</td>\n",
              "      <td>0.000000</td>\n",
              "    </tr>\n",
              "    <tr>\n",
              "      <th>0594012015</th>\n",
              "      <td>8</td>\n",
              "      <td>2.000000</td>\n",
              "      <td>1.851640</td>\n",
              "    </tr>\n",
              "    <tr>\n",
              "      <th>0594017343</th>\n",
              "      <td>1</td>\n",
              "      <td>1.000000</td>\n",
              "      <td>NaN</td>\n",
              "    </tr>\n",
              "    <tr>\n",
              "      <th>0594017580</th>\n",
              "      <td>1</td>\n",
              "      <td>3.000000</td>\n",
              "      <td>NaN</td>\n",
              "    </tr>\n",
              "  </tbody>\n",
              "</table>\n",
              "</div>"
            ],
            "text/plain": [
              "            count      mean       std\n",
              "productId                            \n",
              "0132793040      1  5.000000       NaN\n",
              "0321732944      1  5.000000       NaN\n",
              "0439886341      3  1.666667  1.154701\n",
              "0511189877      6  4.500000  1.224745\n",
              "0528881469     27  2.851852  1.680286\n",
              "0558835155      1  3.000000       NaN\n",
              "059400232X      3  5.000000  0.000000\n",
              "0594012015      8  2.000000  1.851640\n",
              "0594017343      1  1.000000       NaN\n",
              "0594017580      1  3.000000       NaN"
            ]
          },
          "metadata": {
            "tags": []
          },
          "execution_count": 73
        }
      ]
    },
    {
      "cell_type": "code",
      "metadata": {
        "id": "9ILO8yLdYzYw",
        "colab_type": "code",
        "colab": {
          "base_uri": "https://localhost:8080/",
          "height": 282
        },
        "outputId": "a8331f4e-d9d6-4689-b657-da9bc248a993"
      },
      "source": [
        "ratings_product_summary.sort_values(by='count')['count'].hist(bins=10)"
      ],
      "execution_count": 79,
      "outputs": [
        {
          "output_type": "execute_result",
          "data": {
            "text/plain": [
              "<matplotlib.axes._subplots.AxesSubplot at 0x7f4aaf954828>"
            ]
          },
          "metadata": {
            "tags": []
          },
          "execution_count": 79
        },
        {
          "output_type": "display_data",
          "data": {
            "image/png": "[encoded data removed]",
            "text/plain": [
              "<Figure size 432x288 with 1 Axes>"
            ]
          },
          "metadata": {
            "tags": [],
            "needs_background": "light"
          }
        }
      ]
    },
    {
      "cell_type": "code",
      "metadata": {
        "id": "UxumNFo9TaqA",
        "colab_type": "code",
        "colab": {
          "base_uri": "https://localhost:8080/",
          "height": 204
        },
        "outputId": "ee363e1e-8658-4c64-ffa5-cf488e8b21d1"
      },
      "source": [
        "# select subset as users who have given atleast >= 500 ratings\n",
        "# using 500 because with colab 12GB RAM subset >=50 of users is crashing RAM while running KNNWithMeans item-item based model\n",
        "df = ratings_data.groupby('userId').filter(lambda x : len(x) >= 500) \n",
        "df.head()"
      ],
      "execution_count": 19,
      "outputs": [
        {
          "output_type": "execute_result",
          "data": {
            "text/html": [
              "<div>\n",
              "<style scoped>\n",
              "    .dataframe tbody tr th:only-of-type {\n",
              "        vertical-align: middle;\n",
              "    }\n",
              "\n",
              "    .dataframe tbody tr th {\n",
              "        vertical-align: top;\n",
              "    }\n",
              "\n",
              "    .dataframe thead th {\n",
              "        text-align: right;\n",
              "    }\n",
              "</style>\n",
              "<table border=\"1\" class=\"dataframe\">\n",
              "  <thead>\n",
              "    <tr style=\"text-align: right;\">\n",
              "      <th></th>\n",
              "      <th>userId</th>\n",
              "      <th>productId</th>\n",
              "      <th>rating</th>\n",
              "    </tr>\n",
              "  </thead>\n",
              "  <tbody>\n",
              "    <tr>\n",
              "      <th>2162</th>\n",
              "      <td>A5JLAU2ARJ0BO</td>\n",
              "      <td>1400532655</td>\n",
              "      <td>1.0</td>\n",
              "    </tr>\n",
              "    <tr>\n",
              "      <th>5932</th>\n",
              "      <td>ADLVFFE4VBT8</td>\n",
              "      <td>9981719005</td>\n",
              "      <td>3.0</td>\n",
              "    </tr>\n",
              "    <tr>\n",
              "      <th>31765</th>\n",
              "      <td>ADLVFFE4VBT8</td>\n",
              "      <td>B00002NDRF</td>\n",
              "      <td>4.0</td>\n",
              "    </tr>\n",
              "    <tr>\n",
              "      <th>32736</th>\n",
              "      <td>A5JLAU2ARJ0BO</td>\n",
              "      <td>B00003006R</td>\n",
              "      <td>5.0</td>\n",
              "    </tr>\n",
              "    <tr>\n",
              "      <th>35087</th>\n",
              "      <td>A5JLAU2ARJ0BO</td>\n",
              "      <td>B00003G1RG</td>\n",
              "      <td>3.0</td>\n",
              "    </tr>\n",
              "  </tbody>\n",
              "</table>\n",
              "</div>"
            ],
            "text/plain": [
              "              userId   productId  rating\n",
              "2162   A5JLAU2ARJ0BO  1400532655     1.0\n",
              "5932    ADLVFFE4VBT8  9981719005     3.0\n",
              "31765   ADLVFFE4VBT8  B00002NDRF     4.0\n",
              "32736  A5JLAU2ARJ0BO  B00003006R     5.0\n",
              "35087  A5JLAU2ARJ0BO  B00003G1RG     3.0"
            ]
          },
          "metadata": {
            "tags": []
          },
          "execution_count": 19
        }
      ]
    },
    {
      "cell_type": "code",
      "metadata": {
        "id": "tMsgZRN_AkvH",
        "colab_type": "code",
        "colab": {
          "base_uri": "https://localhost:8080/",
          "height": 34
        },
        "outputId": "23fdfbef-eca6-4e60-fd57-224ea4bc2ea0"
      },
      "source": [
        "df.shape"
      ],
      "execution_count": 20,
      "outputs": [
        {
          "output_type": "execute_result",
          "data": {
            "text/plain": [
              "(1021, 3)"
            ]
          },
          "metadata": {
            "tags": []
          },
          "execution_count": 20
        }
      ]
    },
    {
      "cell_type": "code",
      "metadata": {
        "id": "fGvUbMv2KuD0",
        "colab_type": "code",
        "colab": {
          "base_uri": "https://localhost:8080/",
          "height": 297
        },
        "outputId": "452f3861-f8ff-43de-e21a-69cf233a6c79"
      },
      "source": [
        "df.describe()"
      ],
      "execution_count": 21,
      "outputs": [
        {
          "output_type": "execute_result",
          "data": {
            "text/html": [
              "<div>\n",
              "<style scoped>\n",
              "    .dataframe tbody tr th:only-of-type {\n",
              "        vertical-align: middle;\n",
              "    }\n",
              "\n",
              "    .dataframe tbody tr th {\n",
              "        vertical-align: top;\n",
              "    }\n",
              "\n",
              "    .dataframe thead th {\n",
              "        text-align: right;\n",
              "    }\n",
              "</style>\n",
              "<table border=\"1\" class=\"dataframe\">\n",
              "  <thead>\n",
              "    <tr style=\"text-align: right;\">\n",
              "      <th></th>\n",
              "      <th>rating</th>\n",
              "    </tr>\n",
              "  </thead>\n",
              "  <tbody>\n",
              "    <tr>\n",
              "      <th>count</th>\n",
              "      <td>1021.000000</td>\n",
              "    </tr>\n",
              "    <tr>\n",
              "      <th>mean</th>\n",
              "      <td>4.068560</td>\n",
              "    </tr>\n",
              "    <tr>\n",
              "      <th>std</th>\n",
              "      <td>1.261496</td>\n",
              "    </tr>\n",
              "    <tr>\n",
              "      <th>min</th>\n",
              "      <td>1.000000</td>\n",
              "    </tr>\n",
              "    <tr>\n",
              "      <th>25%</th>\n",
              "      <td>4.000000</td>\n",
              "    </tr>\n",
              "    <tr>\n",
              "      <th>50%</th>\n",
              "      <td>5.000000</td>\n",
              "    </tr>\n",
              "    <tr>\n",
              "      <th>75%</th>\n",
              "      <td>5.000000</td>\n",
              "    </tr>\n",
              "    <tr>\n",
              "      <th>max</th>\n",
              "      <td>5.000000</td>\n",
              "    </tr>\n",
              "  </tbody>\n",
              "</table>\n",
              "</div>"
            ],
            "text/plain": [
              "            rating\n",
              "count  1021.000000\n",
              "mean      4.068560\n",
              "std       1.261496\n",
              "min       1.000000\n",
              "25%       4.000000\n",
              "50%       5.000000\n",
              "75%       5.000000\n",
              "max       5.000000"
            ]
          },
          "metadata": {
            "tags": []
          },
          "execution_count": 21
        }
      ]
    },
    {
      "cell_type": "markdown",
      "metadata": {
        "id": "Bb-38YYeTz2B",
        "colab_type": "text"
      },
      "source": [
        "\n",
        "# 3. Build Popularity Recommender model. ( 15 marks)\n",
        "# 4. Split the data randomly into a train and test dataset. ( For example, split it in 70/30 ratio) ( 2 marks)"
      ]
    },
    {
      "cell_type": "code",
      "metadata": {
        "id": "eDMECAi0TatV",
        "colab_type": "code",
        "colab": {
          "base_uri": "https://localhost:8080/",
          "height": 119
        },
        "outputId": "c215e683-cfd8-4418-e339-6d449433bc13"
      },
      "source": [
        "train_data, test_data = train_test_split(df, test_size = 0.30, random_state=0)\n",
        "print(train_data.head(5))"
      ],
      "execution_count": 22,
      "outputs": [
        {
          "output_type": "stream",
          "text": [
            "                userId   productId  rating\n",
            "1574054   ADLVFFE4VBT8  B0011FQUUW     5.0\n",
            "56089    A5JLAU2ARJ0BO  B00004VX3T     3.0\n",
            "211142   A5JLAU2ARJ0BO  B000071NY3     5.0\n",
            "163029   A5JLAU2ARJ0BO  B000068OJM     4.0\n",
            "3550354   ADLVFFE4VBT8  B003TNMABW     5.0\n"
          ],
          "name": "stdout"
        }
      ]
    },
    {
      "cell_type": "code",
      "metadata": {
        "id": "GE5VuB6gTawX",
        "colab_type": "code",
        "colab": {
          "base_uri": "https://localhost:8080/",
          "height": 204
        },
        "outputId": "6c2a3321-924a-431c-9d76-c33051723df8"
      },
      "source": [
        "#Count of user_id for each unique product as recommendation score \n",
        "train_data_grouped = train_data.groupby('productId').agg({'userId': 'count'}).reset_index()\n",
        "train_data_grouped.rename(columns = {'userId': 'score'},inplace=True)\n",
        "train_data_grouped.head()"
      ],
      "execution_count": 23,
      "outputs": [
        {
          "output_type": "execute_result",
          "data": {
            "text/html": [
              "<div>\n",
              "<style scoped>\n",
              "    .dataframe tbody tr th:only-of-type {\n",
              "        vertical-align: middle;\n",
              "    }\n",
              "\n",
              "    .dataframe tbody tr th {\n",
              "        vertical-align: top;\n",
              "    }\n",
              "\n",
              "    .dataframe thead th {\n",
              "        text-align: right;\n",
              "    }\n",
              "</style>\n",
              "<table border=\"1\" class=\"dataframe\">\n",
              "  <thead>\n",
              "    <tr style=\"text-align: right;\">\n",
              "      <th></th>\n",
              "      <th>productId</th>\n",
              "      <th>score</th>\n",
              "    </tr>\n",
              "  </thead>\n",
              "  <tbody>\n",
              "    <tr>\n",
              "      <th>0</th>\n",
              "      <td>1400532655</td>\n",
              "      <td>1</td>\n",
              "    </tr>\n",
              "    <tr>\n",
              "      <th>1</th>\n",
              "      <td>B00003006R</td>\n",
              "      <td>1</td>\n",
              "    </tr>\n",
              "    <tr>\n",
              "      <th>2</th>\n",
              "      <td>B00003G1RG</td>\n",
              "      <td>1</td>\n",
              "    </tr>\n",
              "    <tr>\n",
              "      <th>3</th>\n",
              "      <td>B00004SB92</td>\n",
              "      <td>1</td>\n",
              "    </tr>\n",
              "    <tr>\n",
              "      <th>4</th>\n",
              "      <td>B00004T1KZ</td>\n",
              "      <td>1</td>\n",
              "    </tr>\n",
              "  </tbody>\n",
              "</table>\n",
              "</div>"
            ],
            "text/plain": [
              "    productId  score\n",
              "0  1400532655      1\n",
              "1  B00003006R      1\n",
              "2  B00003G1RG      1\n",
              "3  B00004SB92      1\n",
              "4  B00004T1KZ      1"
            ]
          },
          "metadata": {
            "tags": []
          },
          "execution_count": 23
        }
      ]
    },
    {
      "cell_type": "code",
      "metadata": {
        "id": "cmQrL2swTazV",
        "colab_type": "code",
        "colab": {
          "base_uri": "https://localhost:8080/",
          "height": 204
        },
        "outputId": "2dd2c00d-befb-4407-c7a3-7c0f1e748e1d"
      },
      "source": [
        "#Sort the products on recommendation score \n",
        "train_data_sort = train_data_grouped.sort_values(['score', 'productId'], ascending = [0,1]) \n",
        "      \n",
        "#Generate a recommendation rank based upon score \n",
        "train_data_sort['Rank'] = train_data_sort['score'].rank(ascending=0, method='first') \n",
        "          \n",
        "#Get the top 5 recommendations \n",
        "popularity_recommendations = train_data_sort.head(5) \n",
        "popularity_recommendations "
      ],
      "execution_count": 24,
      "outputs": [
        {
          "output_type": "execute_result",
          "data": {
            "text/html": [
              "<div>\n",
              "<style scoped>\n",
              "    .dataframe tbody tr th:only-of-type {\n",
              "        vertical-align: middle;\n",
              "    }\n",
              "\n",
              "    .dataframe tbody tr th {\n",
              "        vertical-align: top;\n",
              "    }\n",
              "\n",
              "    .dataframe thead th {\n",
              "        text-align: right;\n",
              "    }\n",
              "</style>\n",
              "<table border=\"1\" class=\"dataframe\">\n",
              "  <thead>\n",
              "    <tr style=\"text-align: right;\">\n",
              "      <th></th>\n",
              "      <th>productId</th>\n",
              "      <th>score</th>\n",
              "      <th>Rank</th>\n",
              "    </tr>\n",
              "  </thead>\n",
              "  <tbody>\n",
              "    <tr>\n",
              "      <th>216</th>\n",
              "      <td>B0002CPBUK</td>\n",
              "      <td>2</td>\n",
              "      <td>1.0</td>\n",
              "    </tr>\n",
              "    <tr>\n",
              "      <th>331</th>\n",
              "      <td>B000M17AVO</td>\n",
              "      <td>2</td>\n",
              "      <td>2.0</td>\n",
              "    </tr>\n",
              "    <tr>\n",
              "      <th>420</th>\n",
              "      <td>B001P05NBA</td>\n",
              "      <td>2</td>\n",
              "      <td>3.0</td>\n",
              "    </tr>\n",
              "    <tr>\n",
              "      <th>433</th>\n",
              "      <td>B001V9LPT4</td>\n",
              "      <td>2</td>\n",
              "      <td>4.0</td>\n",
              "    </tr>\n",
              "    <tr>\n",
              "      <th>0</th>\n",
              "      <td>1400532655</td>\n",
              "      <td>1</td>\n",
              "      <td>5.0</td>\n",
              "    </tr>\n",
              "  </tbody>\n",
              "</table>\n",
              "</div>"
            ],
            "text/plain": [
              "      productId  score  Rank\n",
              "216  B0002CPBUK      2   1.0\n",
              "331  B000M17AVO      2   2.0\n",
              "420  B001P05NBA      2   3.0\n",
              "433  B001V9LPT4      2   4.0\n",
              "0    1400532655      1   5.0"
            ]
          },
          "metadata": {
            "tags": []
          },
          "execution_count": 24
        }
      ]
    },
    {
      "cell_type": "code",
      "metadata": {
        "id": "RCQXHSnrTa3i",
        "colab_type": "code",
        "colab": {}
      },
      "source": [
        ""
      ],
      "execution_count": 24,
      "outputs": []
    },
    {
      "cell_type": "markdown",
      "metadata": {
        "id": "kNk962vqZFjD",
        "colab_type": "text"
      },
      "source": [
        " Use popularity based recommender model to make predictions and find recommendations for random list of users with inferences"
      ]
    },
    {
      "cell_type": "code",
      "metadata": {
        "id": "D74_eLrGTa7u",
        "colab_type": "code",
        "colab": {}
      },
      "source": [
        "# Use popularity based recommender model to make predictions\n",
        "def recommend(userId):     \n",
        "    user_recommendations = popularity_recommendations \n",
        "          \n",
        "    #Add user_id column for which the recommendations are being generated \n",
        "    user_recommendations['userId'] = userId \n",
        "      \n",
        "    #Bring user_id column to the front \n",
        "    cols = user_recommendations.columns.tolist() \n",
        "    cols = cols[-1:] + cols[:-1] \n",
        "    user_recommendations = user_recommendations[cols] \n",
        "          \n",
        "    return user_recommendations "
      ],
      "execution_count": 25,
      "outputs": []
    },
    {
      "cell_type": "code",
      "metadata": {
        "id": "ZQ1bdPk6ZTmo",
        "colab_type": "code",
        "colab": {
          "base_uri": "https://localhost:8080/",
          "height": 853
        },
        "outputId": "863fc4d4-4911-478a-ed87-da7d28322e47"
      },
      "source": [
        "find_recom = [15,121,53]   # This list is user choice.\n",
        "for i in find_recom:\n",
        "    print(\"Here is the recommendation for the userId: %d\\n\" %(i))\n",
        "    print(recommend(i))    \n",
        "    print(\"\\n\") "
      ],
      "execution_count": 26,
      "outputs": [
        {
          "output_type": "stream",
          "text": [
            "Here is the recommendation for the userId: 15\n",
            "\n",
            "     userId   productId  score  Rank\n",
            "216      15  B0002CPBUK      2   1.0\n",
            "331      15  B000M17AVO      2   2.0\n",
            "420      15  B001P05NBA      2   3.0\n",
            "433      15  B001V9LPT4      2   4.0\n",
            "0        15  1400532655      1   5.0\n",
            "\n",
            "\n",
            "Here is the recommendation for the userId: 121\n",
            "\n",
            "     userId   productId  score  Rank\n",
            "216     121  B0002CPBUK      2   1.0\n",
            "331     121  B000M17AVO      2   2.0\n",
            "420     121  B001P05NBA      2   3.0\n",
            "433     121  B001V9LPT4      2   4.0\n",
            "0       121  1400532655      1   5.0\n",
            "\n",
            "\n",
            "Here is the recommendation for the userId: 53\n",
            "\n",
            "     userId   productId  score  Rank\n",
            "216      53  B0002CPBUK      2   1.0\n",
            "331      53  B000M17AVO      2   2.0\n",
            "420      53  B001P05NBA      2   3.0\n",
            "433      53  B001V9LPT4      2   4.0\n",
            "0        53  1400532655      1   5.0\n",
            "\n",
            "\n"
          ],
          "name": "stdout"
        },
        {
          "output_type": "stream",
          "text": [
            "/usr/local/lib/python3.6/dist-packages/ipykernel_launcher.py:6: SettingWithCopyWarning: \n",
            "A value is trying to be set on a copy of a slice from a DataFrame.\n",
            "Try using .loc[row_indexer,col_indexer] = value instead\n",
            "\n",
            "See the caveats in the documentation: https://pandas.pydata.org/pandas-docs/stable/user_guide/indexing.html#returning-a-view-versus-a-copy\n",
            "  \n",
            "/usr/local/lib/python3.6/dist-packages/ipykernel_launcher.py:6: SettingWithCopyWarning: \n",
            "A value is trying to be set on a copy of a slice from a DataFrame.\n",
            "Try using .loc[row_indexer,col_indexer] = value instead\n",
            "\n",
            "See the caveats in the documentation: https://pandas.pydata.org/pandas-docs/stable/user_guide/indexing.html#returning-a-view-versus-a-copy\n",
            "  \n",
            "/usr/local/lib/python3.6/dist-packages/ipykernel_launcher.py:6: SettingWithCopyWarning: \n",
            "A value is trying to be set on a copy of a slice from a DataFrame.\n",
            "Try using .loc[row_indexer,col_indexer] = value instead\n",
            "\n",
            "See the caveats in the documentation: https://pandas.pydata.org/pandas-docs/stable/user_guide/indexing.html#returning-a-view-versus-a-copy\n",
            "  \n"
          ],
          "name": "stderr"
        }
      ]
    },
    {
      "cell_type": "markdown",
      "metadata": {
        "id": "n218h5eOZbqW",
        "colab_type": "text"
      },
      "source": [
        "Since this is a popularity-based recommender model, recommendations remain the same for all users\n",
        "\n",
        "We predict the products based on the popularity. It is not personalized to particular user"
      ]
    },
    {
      "cell_type": "markdown",
      "metadata": {
        "id": "Gz77ViTsSDJV",
        "colab_type": "text"
      },
      "source": [
        "# 4. Split the data randomly into a train and test dataset. ( For example, split it in 70/30 ratio) ( 2 marks)"
      ]
    },
    {
      "cell_type": "code",
      "metadata": {
        "id": "AzkHL1BwW0TO",
        "colab_type": "code",
        "colab": {
          "base_uri": "https://localhost:8080/",
          "height": 309
        },
        "outputId": "02ca1e39-baca-41c6-b0db-e97213cae61d"
      },
      "source": [
        "!pip install surprise # We will user Surprise API"
      ],
      "execution_count": 27,
      "outputs": [
        {
          "output_type": "stream",
          "text": [
            "Collecting surprise\n",
            "  Downloading https://files.pythonhosted.org/packages/61/de/e5cba8682201fcf9c3719a6fdda95693468ed061945493dea2dd37c5618b/surprise-0.1-py2.py3-none-any.whl\n",
            "Collecting scikit-surprise\n",
            "\u001b[?25l  Downloading https://files.pythonhosted.org/packages/f5/da/b5700d96495fb4f092be497f02492768a3d96a3f4fa2ae7dea46d4081cfa/scikit-surprise-1.1.0.tar.gz (6.4MB)\n",
            "\u001b[K     |████████████████████████████████| 6.5MB 2.6MB/s \n",
            "\u001b[?25hRequirement already satisfied: joblib>=0.11 in /usr/local/lib/python3.6/dist-packages (from scikit-surprise->surprise) (0.16.0)\n",
            "Requirement already satisfied: numpy>=1.11.2 in /usr/local/lib/python3.6/dist-packages (from scikit-surprise->surprise) (1.18.5)\n",
            "Requirement already satisfied: scipy>=1.0.0 in /usr/local/lib/python3.6/dist-packages (from scikit-surprise->surprise) (1.4.1)\n",
            "Requirement already satisfied: six>=1.10.0 in /usr/local/lib/python3.6/dist-packages (from scikit-surprise->surprise) (1.12.0)\n",
            "Building wheels for collected packages: scikit-surprise\n",
            "  Building wheel for scikit-surprise (setup.py) ... \u001b[?25l\u001b[?25hdone\n",
            "  Created wheel for scikit-surprise: filename=scikit_surprise-1.1.0-cp36-cp36m-linux_x86_64.whl size=1670758 sha256=d18b0f4ee6713ba46490b99dc1742c5530f3c747c4524932d922753c37ac4ffa\n",
            "  Stored in directory: /root/.cache/pip/wheels/cc/fa/8c/16c93fccce688ae1bde7d979ff102f7bee980d9cfeb8641bcf\n",
            "Successfully built scikit-surprise\n",
            "Installing collected packages: scikit-surprise, surprise\n",
            "Successfully installed scikit-surprise-1.1.0 surprise-0.1\n"
          ],
          "name": "stdout"
        }
      ]
    },
    {
      "cell_type": "code",
      "metadata": {
        "id": "wy7TBZ_vZTtx",
        "colab_type": "code",
        "colab": {}
      },
      "source": [
        "# Import surprise library\n",
        "from surprise import Dataset\n",
        "from surprise import accuracy\n",
        "from surprise import Reader\n",
        "from surprise.model_selection import train_test_split, cross_validate, GridSearchCV"
      ],
      "execution_count": 66,
      "outputs": []
    },
    {
      "cell_type": "code",
      "metadata": {
        "id": "aZkZWpWWZTwK",
        "colab_type": "code",
        "colab": {}
      },
      "source": [
        "reader = Reader(rating_scale=(1, 5)) # Read the dataset\n",
        "data_new = Dataset.load_from_df(df[['userId', 'productId', 'rating']], reader)\n",
        "trainset, testset = train_test_split(data_new, test_size = 0.30, random_state=1) # split the data into 70/30 training and test set"
      ],
      "execution_count": 29,
      "outputs": []
    },
    {
      "cell_type": "markdown",
      "metadata": {
        "id": "S4lgKgxOSVFa",
        "colab_type": "text"
      },
      "source": [
        "# 5. Build Collaborative Filtering model. ( 20 marks)"
      ]
    },
    {
      "cell_type": "code",
      "metadata": {
        "id": "K90KCdlChch6",
        "colab_type": "code",
        "colab": {}
      },
      "source": [
        "# Import recommendation algorithms\n",
        "\n",
        "from surprise import SVD, SVDpp, KNNBaseline, KNNBasic, KNNWithMeans, KNNWithZScore\n",
        "\n",
        "# function to execute all algorithms to find best one based on RMSE\n",
        "benchmark = []\n",
        "def findBestAlgo(a,b,c,d,e,f):\n",
        "    # Iterate over all algorithms\n",
        "    for algorithm in [a,b,c,d,e,f]:\n",
        "        # Perform cross validation\n",
        "        if (algorithm != None):\n",
        "          results = cross_validate(algorithm, data_new, cv=3, verbose=False)        \n",
        "          # Get results & append algorithm name\n",
        "          tmp = pd.DataFrame.from_dict(results).mean(axis=0)\n",
        "          tmp = tmp.append(pd.Series([str(algorithm).split(' ')[0].split('.')[-1]], index=['Algorithm']))\n",
        "          benchmark.append(tmp)       \n",
        "    bd = pd.DataFrame(benchmark).set_index('Algorithm').sort_values('test_rmse')  \n",
        "    return bd"
      ],
      "execution_count": 48,
      "outputs": []
    },
    {
      "cell_type": "code",
      "metadata": {
        "id": "VZ0j-epgqd-Q",
        "colab_type": "code",
        "colab": {
          "base_uri": "https://localhost:8080/",
          "height": 476
        },
        "outputId": "df390112-7aa0-44e1-e94c-775ccdbabff9"
      },
      "source": [
        "bestModels = findBestAlgo(SVD(), SVDpp(), KNNBaseline(), KNNBasic(), KNNWithMeans(), KNNWithZScore()) "
      ],
      "execution_count": 49,
      "outputs": [
        {
          "output_type": "stream",
          "text": [
            "Estimating biases using als...\n",
            "Computing the msd similarity matrix...\n",
            "Done computing similarity matrix.\n",
            "Estimating biases using als...\n",
            "Computing the msd similarity matrix...\n",
            "Done computing similarity matrix.\n",
            "Estimating biases using als...\n",
            "Computing the msd similarity matrix...\n",
            "Done computing similarity matrix.\n",
            "Computing the msd similarity matrix...\n",
            "Done computing similarity matrix.\n",
            "Computing the msd similarity matrix...\n",
            "Done computing similarity matrix.\n",
            "Computing the msd similarity matrix...\n",
            "Done computing similarity matrix.\n",
            "Computing the msd similarity matrix...\n",
            "Done computing similarity matrix.\n",
            "Computing the msd similarity matrix...\n",
            "Done computing similarity matrix.\n",
            "Computing the msd similarity matrix...\n",
            "Done computing similarity matrix.\n",
            "Computing the msd similarity matrix...\n",
            "Done computing similarity matrix.\n",
            "Computing the msd similarity matrix...\n",
            "Done computing similarity matrix.\n",
            "Computing the msd similarity matrix...\n",
            "Done computing similarity matrix.\n"
          ],
          "name": "stdout"
        }
      ]
    },
    {
      "cell_type": "code",
      "metadata": {
        "id": "NoHeK7GLAyoG",
        "colab_type": "code",
        "colab": {
          "base_uri": "https://localhost:8080/",
          "height": 266
        },
        "outputId": "3c391aee-4f42-4c9b-dae7-6d11c551a889"
      },
      "source": [
        "bestModels"
      ],
      "execution_count": 50,
      "outputs": [
        {
          "output_type": "execute_result",
          "data": {
            "text/html": [
              "<div>\n",
              "<style scoped>\n",
              "    .dataframe tbody tr th:only-of-type {\n",
              "        vertical-align: middle;\n",
              "    }\n",
              "\n",
              "    .dataframe tbody tr th {\n",
              "        vertical-align: top;\n",
              "    }\n",
              "\n",
              "    .dataframe thead th {\n",
              "        text-align: right;\n",
              "    }\n",
              "</style>\n",
              "<table border=\"1\" class=\"dataframe\">\n",
              "  <thead>\n",
              "    <tr style=\"text-align: right;\">\n",
              "      <th></th>\n",
              "      <th>test_rmse</th>\n",
              "      <th>test_mae</th>\n",
              "      <th>fit_time</th>\n",
              "      <th>test_time</th>\n",
              "    </tr>\n",
              "    <tr>\n",
              "      <th>Algorithm</th>\n",
              "      <th></th>\n",
              "      <th></th>\n",
              "      <th></th>\n",
              "      <th></th>\n",
              "    </tr>\n",
              "  </thead>\n",
              "  <tbody>\n",
              "    <tr>\n",
              "      <th>SVD</th>\n",
              "      <td>1.242456</td>\n",
              "      <td>1.011709</td>\n",
              "      <td>0.043179</td>\n",
              "      <td>0.002190</td>\n",
              "    </tr>\n",
              "    <tr>\n",
              "      <th>SVDpp</th>\n",
              "      <td>1.242570</td>\n",
              "      <td>1.017808</td>\n",
              "      <td>2.736621</td>\n",
              "      <td>0.003913</td>\n",
              "    </tr>\n",
              "    <tr>\n",
              "      <th>KNNBaseline</th>\n",
              "      <td>1.243199</td>\n",
              "      <td>1.013678</td>\n",
              "      <td>0.002131</td>\n",
              "      <td>0.002086</td>\n",
              "    </tr>\n",
              "    <tr>\n",
              "      <th>KNNWithZScore</th>\n",
              "      <td>1.257621</td>\n",
              "      <td>0.991278</td>\n",
              "      <td>0.001536</td>\n",
              "      <td>0.001878</td>\n",
              "    </tr>\n",
              "    <tr>\n",
              "      <th>KNNBasic</th>\n",
              "      <td>1.259043</td>\n",
              "      <td>0.994381</td>\n",
              "      <td>0.000210</td>\n",
              "      <td>0.001986</td>\n",
              "    </tr>\n",
              "    <tr>\n",
              "      <th>KNNWithMeans</th>\n",
              "      <td>1.260122</td>\n",
              "      <td>0.996510</td>\n",
              "      <td>0.000326</td>\n",
              "      <td>0.001856</td>\n",
              "    </tr>\n",
              "  </tbody>\n",
              "</table>\n",
              "</div>"
            ],
            "text/plain": [
              "               test_rmse  test_mae  fit_time  test_time\n",
              "Algorithm                                              \n",
              "SVD             1.242456  1.011709  0.043179   0.002190\n",
              "SVDpp           1.242570  1.017808  2.736621   0.003913\n",
              "KNNBaseline     1.243199  1.013678  0.002131   0.002086\n",
              "KNNWithZScore   1.257621  0.991278  0.001536   0.001878\n",
              "KNNBasic        1.259043  0.994381  0.000210   0.001986\n",
              "KNNWithMeans    1.260122  0.996510  0.000326   0.001856"
            ]
          },
          "metadata": {
            "tags": []
          },
          "execution_count": 50
        }
      ]
    },
    {
      "cell_type": "markdown",
      "metadata": {
        "id": "n_2eyL6gQbb9",
        "colab_type": "text"
      },
      "source": [
        "# 6. Evaluate the above model. ( Once the model is trained on the training data, it can be used to compute the error (like RMSE) on predictions made on the test data.) You can also use a different method to evaluate the models. ( 5 marks)"
      ]
    },
    {
      "cell_type": "code",
      "metadata": {
        "id": "6ieYPOUuPIO3",
        "colab_type": "code",
        "colab": {}
      },
      "source": [
        "uid = str(15) # raw user id \n",
        "iid = str(121) # raw item id"
      ],
      "execution_count": 51,
      "outputs": []
    },
    {
      "cell_type": "code",
      "metadata": {
        "id": "nTmmFsD0SHI9",
        "colab_type": "code",
        "colab": {
          "base_uri": "https://localhost:8080/",
          "height": 207
        },
        "outputId": "8bbfd76f-8613-4db1-f5cc-0c80d42e731a"
      },
      "source": [
        "# # Train and Predict: SVD algorithm that gave us the best rmse,mae and good fit and test time, \n",
        "# therefore we will train and predict with SVD and use RMSE\n",
        "\n",
        "svdalgo = SVD()\n",
        "svdalgo.fit(trainset)\n",
        "\n",
        "svdpred = svdalgo.predict(uid, iid, verbose=True)\n",
        "svdscore = svdpred.est\n",
        "svdscore\n",
        "# run the trained model against the testset\n",
        "svdtest_pred = svdalgo.test(testset)\n",
        "\n",
        "print(\" SVD Predictions: \\n\",svdtest_pred)\n",
        "\n",
        "#get RMSE\n",
        "print(\"\\nSVD : Test Set RMSE\") \n",
        "svd_rmse = accuracy.rmse(svdtest_pred, verbose=True)\n",
        "svd_rmse\n",
        "#get MAE\n",
        "print(\"\\nSVD : Test Set MAE\") \n",
        "svd_mae = accuracy.mae(svdtest_pred, verbose=True)\n",
        "svd_mae"
      ],
      "execution_count": 52,
      "outputs": [
        {
          "output_type": "stream",
          "text": [
            "user: 15         item: 121        r_ui = None   est = 4.05   {'was_impossible': False}\n",
            " SVD Predictions: \n",
            " [Prediction(uid='ADLVFFE4VBT8', iid='B000JMJWV2', r_ui=5.0, est=4.285110683093085, details={'was_impossible': False}), Prediction(uid='ADLVFFE4VBT8', iid='B002YL34A6', r_ui=4.0, est=4.285110683093085, details={'was_impossible': False}), Prediction(uid='ADLVFFE4VBT8', iid='B002PJVUFS', r_ui=4.0, est=4.285110683093085, details={'was_impossible': False}), Prediction(uid='ADLVFFE4VBT8', iid='B00B3PLPVO', r_ui=4.0, est=4.285110683093085, details={'was_impossible': False}), Prediction(uid='ADLVFFE4VBT8', iid='B000M2GYF6', r_ui=4.0, est=4.285110683093085, details={'was_impossible': False}), Prediction(uid='A5JLAU2ARJ0BO', iid='B000095SB4', r_ui=3.0, est=3.820626860285203, details={'was_impossible': False}), Prediction(uid='A5JLAU2ARJ0BO', iid='B00009LZMN', r_ui=1.0, est=3.820626860285203, details={'was_impossible': False}), Prediction(uid='A5JLAU2ARJ0BO', iid='B00008N6X4', r_ui=4.0, est=3.820626860285203, details={'was_impossible': False}), Prediction(uid='A5JLAU2ARJ0BO', iid='B0000C8817', r_ui=5.0, est=3.820626860285203, details={'was_impossible': False}), Prediction(uid='A5JLAU2ARJ0BO', iid='B000WF1PJ8', r_ui=5.0, est=3.820626860285203, details={'was_impossible': False}), Prediction(uid='A5JLAU2ARJ0BO', iid='B0000A03CZ', r_ui=2.0, est=3.820626860285203, details={'was_impossible': False}), Prediction(uid='A5JLAU2ARJ0BO', iid='B0002XQJFA', r_ui=5.0, est=3.820626860285203, details={'was_impossible': False}), Prediction(uid='A5JLAU2ARJ0BO', iid='B002NPCK1W', r_ui=5.0, est=3.820626860285203, details={'was_impossible': False}), Prediction(uid='ADLVFFE4VBT8', iid='B004NY9V04', r_ui=2.0, est=4.285110683093085, details={'was_impossible': False}), Prediction(uid='ADLVFFE4VBT8', iid='B00JXVPHC8', r_ui=5.0, est=4.285110683093085, details={'was_impossible': False}), Prediction(uid='ADLVFFE4VBT8', iid='B00JD4SYT8', r_ui=4.0, est=4.285110683093085, details={'was_impossible': False}), Prediction(uid='ADLVFFE4VBT8', iid='B008H7MC2W', r_ui=5.0, est=4.285110683093085, details={'was_impossible': False}), Prediction(uid='ADLVFFE4VBT8', iid='B008CP5R8K', r_ui=5.0, est=4.285110683093085, details={'was_impossible': False}), Prediction(uid='ADLVFFE4VBT8', iid='B00AQDG9BA', r_ui=4.0, est=4.285110683093085, details={'was_impossible': False}), Prediction(uid='ADLVFFE4VBT8', iid='B001GQ39N2', r_ui=4.0, est=4.285110683093085, details={'was_impossible': False}), Prediction(uid='A5JLAU2ARJ0BO', iid='B00006BH7F', r_ui=5.0, est=3.820626860285203, details={'was_impossible': False}), Prediction(uid='ADLVFFE4VBT8', iid='B006GWO5WK', r_ui=4.0, est=4.285110683093085, details={'was_impossible': False}), Prediction(uid='A5JLAU2ARJ0BO', iid='B0036Q7MV0', r_ui=5.0, est=3.820626860285203, details={'was_impossible': False}), Prediction(uid='ADLVFFE4VBT8', iid='B00BB5ZQC0', r_ui=2.0, est=4.285110683093085, details={'was_impossible': False}), Prediction(uid='ADLVFFE4VBT8', iid='B00873ABC4', r_ui=5.0, est=4.285110683093085, details={'was_impossible': False}), Prediction(uid='A5JLAU2ARJ0BO', iid='B0000WWT84', r_ui=5.0, est=3.820626860285203, details={'was_impossible': False}), Prediction(uid='ADLVFFE4VBT8', iid='B0040702HA', r_ui=4.0, est=4.285110683093085, details={'was_impossible': False}), Prediction(uid='ADLVFFE4VBT8', iid='B00H7GU5QO', r_ui=5.0, est=4.285110683093085, details={'was_impossible': False}), Prediction(uid='ADLVFFE4VBT8', iid='B004CLYJ1Y', r_ui=3.0, est=4.285110683093085, details={'was_impossible': False}), Prediction(uid='A5JLAU2ARJ0BO', iid='B00006RSK5', r_ui=5.0, est=3.820626860285203, details={'was_impossible': False}), Prediction(uid='A5JLAU2ARJ0BO', iid='B00026IN1U', r_ui=2.0, est=3.820626860285203, details={'was_impossible': False}), Prediction(uid='A5JLAU2ARJ0BO', iid='B000GU4E1K', r_ui=5.0, est=3.820626860285203, details={'was_impossible': False}), Prediction(uid='ADLVFFE4VBT8', iid='B00EFE9OAE', r_ui=4.0, est=4.285110683093085, details={'was_impossible': False}), Prediction(uid='A5JLAU2ARJ0BO', iid='B0000659UB', r_ui=5.0, est=3.820626860285203, details={'was_impossible': False}), Prediction(uid='ADLVFFE4VBT8', iid='B004CLYEI2', r_ui=5.0, est=4.285110683093085, details={'was_impossible': False}), Prediction(uid='ADLVFFE4VBT8', iid='B0009Y7APU', r_ui=4.0, est=4.285110683093085, details={'was_impossible': False}), Prediction(uid='ADLVFFE4VBT8', iid='B00FENIPQ4', r_ui=5.0, est=4.285110683093085, details={'was_impossible': False}), Prediction(uid='ADLVFFE4VBT8', iid='B00L1I80K2', r_ui=5.0, est=4.285110683093085, details={'was_impossible': False}), Prediction(uid='ADLVFFE4VBT8', iid='B002SGATH8', r_ui=3.0, est=4.285110683093085, details={'was_impossible': False}), Prediction(uid='A5JLAU2ARJ0BO', iid='B0001G0FGW', r_ui=5.0, est=3.820626860285203, details={'was_impossible': False}), Prediction(uid='ADLVFFE4VBT8', iid='B000W5RBQE', r_ui=3.0, est=4.285110683093085, details={'was_impossible': False}), Prediction(uid='ADLVFFE4VBT8', iid='B000NO8GNG', r_ui=4.0, est=4.285110683093085, details={'was_impossible': False}), Prediction(uid='A5JLAU2ARJ0BO', iid='B002TOJXK8', r_ui=5.0, est=3.820626860285203, details={'was_impossible': False}), Prediction(uid='A5JLAU2ARJ0BO', iid='B0001WV09M', r_ui=5.0, est=3.820626860285203, details={'was_impossible': False}), Prediction(uid='A5JLAU2ARJ0BO', iid='B000063EKP', r_ui=5.0, est=3.820626860285203, details={'was_impossible': False}), Prediction(uid='A5JLAU2ARJ0BO', iid='B00007FS59', r_ui=5.0, est=3.820626860285203, details={'was_impossible': False}), Prediction(uid='A5JLAU2ARJ0BO', iid='B00005OP2T', r_ui=5.0, est=3.820626860285203, details={'was_impossible': False}), Prediction(uid='A5JLAU2ARJ0BO', iid='B0000D17BF', r_ui=3.0, est=3.820626860285203, details={'was_impossible': False}), Prediction(uid='ADLVFFE4VBT8', iid='B0023MYNCE', r_ui=5.0, est=4.285110683093085, details={'was_impossible': False}), Prediction(uid='A5JLAU2ARJ0BO', iid='B00009NFEP', r_ui=1.0, est=3.820626860285203, details={'was_impossible': False}), Prediction(uid='ADLVFFE4VBT8', iid='B001PMTAFI', r_ui=5.0, est=4.285110683093085, details={'was_impossible': False}), Prediction(uid='ADLVFFE4VBT8', iid='B00G500AE0', r_ui=5.0, est=4.285110683093085, details={'was_impossible': False}), Prediction(uid='ADLVFFE4VBT8', iid='B001RKS7AC', r_ui=4.0, est=4.285110683093085, details={'was_impossible': False}), Prediction(uid='A5JLAU2ARJ0BO', iid='B0013FSKSA', r_ui=5.0, est=3.820626860285203, details={'was_impossible': False}), Prediction(uid='A5JLAU2ARJ0BO', iid='B00005V14C', r_ui=5.0, est=3.820626860285203, details={'was_impossible': False}), Prediction(uid='ADLVFFE4VBT8', iid='B001VFNAPU', r_ui=5.0, est=4.285110683093085, details={'was_impossible': False}), Prediction(uid='A5JLAU2ARJ0BO', iid='B00007E7L4', r_ui=1.0, est=3.820626860285203, details={'was_impossible': False}), Prediction(uid='A5JLAU2ARJ0BO', iid='B00008IP4V', r_ui=5.0, est=3.820626860285203, details={'was_impossible': False}), Prediction(uid='A5JLAU2ARJ0BO', iid='B0002Z4572', r_ui=5.0, est=3.820626860285203, details={'was_impossible': False}), Prediction(uid='A5JLAU2ARJ0BO', iid='B0000ULJWI', r_ui=1.0, est=3.820626860285203, details={'was_impossible': False}), Prediction(uid='A5JLAU2ARJ0BO', iid='B00005T3B5', r_ui=5.0, est=3.820626860285203, details={'was_impossible': False}), Prediction(uid='A5JLAU2ARJ0BO', iid='B000233YJ4', r_ui=4.0, est=3.820626860285203, details={'was_impossible': False}), Prediction(uid='A5JLAU2ARJ0BO', iid='B003ZSHNGS', r_ui=5.0, est=3.820626860285203, details={'was_impossible': False}), Prediction(uid='A5JLAU2ARJ0BO', iid='B000065BPC', r_ui=5.0, est=3.820626860285203, details={'was_impossible': False}), Prediction(uid='ADLVFFE4VBT8', iid='B00GPKLWKQ', r_ui=5.0, est=4.285110683093085, details={'was_impossible': False}), Prediction(uid='ADLVFFE4VBT8', iid='B009O7XO8U', r_ui=3.0, est=4.285110683093085, details={'was_impossible': False}), Prediction(uid='ADLVFFE4VBT8', iid='B00B4QESVQ', r_ui=5.0, est=4.285110683093085, details={'was_impossible': False}), Prediction(uid='A5JLAU2ARJ0BO', iid='B00006484F', r_ui=1.0, est=3.820626860285203, details={'was_impossible': False}), Prediction(uid='ADLVFFE4VBT8', iid='B00BD7L16G', r_ui=5.0, est=4.285110683093085, details={'was_impossible': False}), Prediction(uid='ADLVFFE4VBT8', iid='B00H7FYEPI', r_ui=5.0, est=4.285110683093085, details={'was_impossible': False}), Prediction(uid='A5JLAU2ARJ0BO', iid='B002FL507A', r_ui=4.0, est=3.820626860285203, details={'was_impossible': False}), Prediction(uid='ADLVFFE4VBT8', iid='B0019M6GS8', r_ui=5.0, est=4.285110683093085, details={'was_impossible': False}), Prediction(uid='ADLVFFE4VBT8', iid='B000OEOMOW', r_ui=4.0, est=4.285110683093085, details={'was_impossible': False}), Prediction(uid='ADLVFFE4VBT8', iid='B0019M9EQ4', r_ui=5.0, est=4.285110683093085, details={'was_impossible': False}), Prediction(uid='ADLVFFE4VBT8', iid='B000067SGI', r_ui=5.0, est=4.285110683093085, details={'was_impossible': False}), Prediction(uid='A5JLAU2ARJ0BO', iid='B000DZFTZS', r_ui=5.0, est=3.820626860285203, details={'was_impossible': False}), Prediction(uid='A5JLAU2ARJ0BO', iid='B0009PV49W', r_ui=5.0, est=3.820626860285203, details={'was_impossible': False}), Prediction(uid='ADLVFFE4VBT8', iid='B00A66XB54', r_ui=4.0, est=4.285110683093085, details={'was_impossible': False}), Prediction(uid='A5JLAU2ARJ0BO', iid='B0002UE9WI', r_ui=2.0, est=3.820626860285203, details={'was_impossible': False}), Prediction(uid='A5JLAU2ARJ0BO', iid='B000IALP88', r_ui=5.0, est=3.820626860285203, details={'was_impossible': False}), Prediction(uid='ADLVFFE4VBT8', iid='B005GL0H24', r_ui=3.0, est=4.285110683093085, details={'was_impossible': False}), Prediction(uid='A5JLAU2ARJ0BO', iid='B00014M3ZK', r_ui=5.0, est=3.820626860285203, details={'was_impossible': False}), Prediction(uid='A5JLAU2ARJ0BO', iid='B002NP8XJ0', r_ui=5.0, est=3.820626860285203, details={'was_impossible': False}), Prediction(uid='ADLVFFE4VBT8', iid='B001CJRKDS', r_ui=4.0, est=4.285110683093085, details={'was_impossible': False}), Prediction(uid='A5JLAU2ARJ0BO', iid='B000LXVM7G', r_ui=2.0, est=3.820626860285203, details={'was_impossible': False}), Prediction(uid='A5JLAU2ARJ0BO', iid='B000ENQUDY', r_ui=5.0, est=3.820626860285203, details={'was_impossible': False}), Prediction(uid='ADLVFFE4VBT8', iid='B009O7XO1C', r_ui=5.0, est=4.285110683093085, details={'was_impossible': False}), Prediction(uid='A5JLAU2ARJ0BO', iid='B0002IG34W', r_ui=4.0, est=3.820626860285203, details={'was_impossible': False}), Prediction(uid='ADLVFFE4VBT8', iid='B009X3UW2G', r_ui=5.0, est=4.285110683093085, details={'was_impossible': False}), Prediction(uid='A5JLAU2ARJ0BO', iid='B0038JED6W', r_ui=5.0, est=3.820626860285203, details={'was_impossible': False}), Prediction(uid='A5JLAU2ARJ0BO', iid='B0000EI9VR', r_ui=1.0, est=3.820626860285203, details={'was_impossible': False}), Prediction(uid='ADLVFFE4VBT8', iid='B00923G46U', r_ui=5.0, est=4.285110683093085, details={'was_impossible': False}), Prediction(uid='ADLVFFE4VBT8', iid='B0002CPBUK', r_ui=5.0, est=4.285110683093085, details={'was_impossible': False}), Prediction(uid='A5JLAU2ARJ0BO', iid='B00005NIMR', r_ui=4.0, est=3.820626860285203, details={'was_impossible': False}), Prediction(uid='A5JLAU2ARJ0BO', iid='B004RO9L50', r_ui=2.0, est=3.820626860285203, details={'was_impossible': False}), Prediction(uid='A5JLAU2ARJ0BO', iid='B000EJVWGS', r_ui=4.0, est=3.820626860285203, details={'was_impossible': False}), Prediction(uid='A5JLAU2ARJ0BO', iid='B0002XZQ9U', r_ui=1.0, est=3.820626860285203, details={'was_impossible': False}), Prediction(uid='A5JLAU2ARJ0BO', iid='B0000AOWWM', r_ui=5.0, est=3.820626860285203, details={'was_impossible': False}), Prediction(uid='A5JLAU2ARJ0BO', iid='B000I62WVQ', r_ui=4.0, est=3.820626860285203, details={'was_impossible': False}), Prediction(uid='A5JLAU2ARJ0BO', iid='B00008IP4W', r_ui=5.0, est=3.820626860285203, details={'was_impossible': False}), Prediction(uid='ADLVFFE4VBT8', iid='B0016PFBB6', r_ui=5.0, est=4.285110683093085, details={'was_impossible': False}), Prediction(uid='ADLVFFE4VBT8', iid='B003ES5ZUU', r_ui=5.0, est=4.285110683093085, details={'was_impossible': False}), Prediction(uid='ADLVFFE4VBT8', iid='B003Y73Q3O', r_ui=2.0, est=4.285110683093085, details={'was_impossible': False}), Prediction(uid='ADLVFFE4VBT8', iid='B002IC0YL8', r_ui=5.0, est=4.285110683093085, details={'was_impossible': False}), Prediction(uid='ADLVFFE4VBT8', iid='B005KQ2O26', r_ui=4.0, est=4.285110683093085, details={'was_impossible': False}), Prediction(uid='ADLVFFE4VBT8', iid='B002BFA91C', r_ui=4.0, est=4.285110683093085, details={'was_impossible': False}), Prediction(uid='A5JLAU2ARJ0BO', iid='B0000D8HAD', r_ui=5.0, est=3.820626860285203, details={'was_impossible': False}), Prediction(uid='ADLVFFE4VBT8', iid='B00FDL8TF4', r_ui=5.0, est=4.285110683093085, details={'was_impossible': False}), Prediction(uid='ADLVFFE4VBT8', iid='B00DR8LAE2', r_ui=4.0, est=4.285110683093085, details={'was_impossible': False}), Prediction(uid='ADLVFFE4VBT8', iid='B00CDY0DSA', r_ui=4.0, est=4.285110683093085, details={'was_impossible': False}), Prediction(uid='A5JLAU2ARJ0BO', iid='B000WP2RC2', r_ui=4.0, est=3.820626860285203, details={'was_impossible': False}), Prediction(uid='ADLVFFE4VBT8', iid='B006YB9082', r_ui=5.0, est=4.285110683093085, details={'was_impossible': False}), Prediction(uid='A5JLAU2ARJ0BO', iid='B000117DF8', r_ui=5.0, est=3.820626860285203, details={'was_impossible': False}), Prediction(uid='A5JLAU2ARJ0BO', iid='B000BM6Z60', r_ui=2.0, est=3.820626860285203, details={'was_impossible': False}), Prediction(uid='ADLVFFE4VBT8', iid='B0043WJRRS', r_ui=5.0, est=4.285110683093085, details={'was_impossible': False}), Prediction(uid='A5JLAU2ARJ0BO', iid='B001ELJ9QK', r_ui=1.0, est=3.820626860285203, details={'was_impossible': False}), Prediction(uid='A5JLAU2ARJ0BO', iid='B0002QWU3W', r_ui=1.0, est=3.820626860285203, details={'was_impossible': False}), Prediction(uid='A5JLAU2ARJ0BO', iid='B00009VSIM', r_ui=5.0, est=3.820626860285203, details={'was_impossible': False}), Prediction(uid='ADLVFFE4VBT8', iid='B008PWUS4I', r_ui=4.0, est=4.285110683093085, details={'was_impossible': False}), Prediction(uid='ADLVFFE4VBT8', iid='B008MF465K', r_ui=2.0, est=4.285110683093085, details={'was_impossible': False}), Prediction(uid='ADLVFFE4VBT8', iid='B003DZ165W', r_ui=5.0, est=4.285110683093085, details={'was_impossible': False}), Prediction(uid='ADLVFFE4VBT8', iid='B001V9LPT4', r_ui=5.0, est=4.1503341150058635, details={'was_impossible': False}), Prediction(uid='ADLVFFE4VBT8', iid='B002BDU89M', r_ui=1.0, est=4.285110683093085, details={'was_impossible': False}), Prediction(uid='A5JLAU2ARJ0BO', iid='B000S11K5U', r_ui=1.0, est=3.820626860285203, details={'was_impossible': False}), Prediction(uid='A5JLAU2ARJ0BO', iid='B000204SWE', r_ui=5.0, est=3.820626860285203, details={'was_impossible': False}), Prediction(uid='ADLVFFE4VBT8', iid='B002C1B9PU', r_ui=5.0, est=4.285110683093085, details={'was_impossible': False}), Prediction(uid='A5JLAU2ARJ0BO', iid='B00005MOZG', r_ui=4.0, est=3.820626860285203, details={'was_impossible': False}), Prediction(uid='A5JLAU2ARJ0BO', iid='B00009NFEQ', r_ui=5.0, est=3.820626860285203, details={'was_impossible': False}), Prediction(uid='A5JLAU2ARJ0BO', iid='B000BI2180', r_ui=1.0, est=3.820626860285203, details={'was_impossible': False}), Prediction(uid='ADLVFFE4VBT8', iid='B00CHRID4Y', r_ui=5.0, est=4.285110683093085, details={'was_impossible': False}), Prediction(uid='ADLVFFE4VBT8', iid='B001DL124I', r_ui=5.0, est=4.285110683093085, details={'was_impossible': False}), Prediction(uid='A5JLAU2ARJ0BO', iid='B00009UT28', r_ui=4.0, est=3.820626860285203, details={'was_impossible': False}), Prediction(uid='A5JLAU2ARJ0BO', iid='B0002Y6DGO', r_ui=5.0, est=3.820626860285203, details={'was_impossible': False}), Prediction(uid='ADLVFFE4VBT8', iid='B003O8682Y', r_ui=5.0, est=4.285110683093085, details={'was_impossible': False}), Prediction(uid='A5JLAU2ARJ0BO', iid='B0000AN42F', r_ui=4.0, est=3.820626860285203, details={'was_impossible': False}), Prediction(uid='ADLVFFE4VBT8', iid='B000MDZKUU', r_ui=5.0, est=4.285110683093085, details={'was_impossible': False}), Prediction(uid='ADLVFFE4VBT8', iid='B007OY5V68', r_ui=3.0, est=4.285110683093085, details={'was_impossible': False}), Prediction(uid='ADLVFFE4VBT8', iid='B00834SJSK', r_ui=5.0, est=4.285110683093085, details={'was_impossible': False}), Prediction(uid='ADLVFFE4VBT8', iid='B003ES5ZR8', r_ui=5.0, est=4.285110683093085, details={'was_impossible': False}), Prediction(uid='A5JLAU2ARJ0BO', iid='B0001MKU52', r_ui=5.0, est=3.820626860285203, details={'was_impossible': False}), Prediction(uid='ADLVFFE4VBT8', iid='B001XURP7W', r_ui=5.0, est=4.285110683093085, details={'was_impossible': False}), Prediction(uid='A5JLAU2ARJ0BO', iid='B0045XAIFU', r_ui=5.0, est=3.820626860285203, details={'was_impossible': False}), Prediction(uid='A5JLAU2ARJ0BO', iid='B000V4VGAI', r_ui=3.0, est=3.820626860285203, details={'was_impossible': False}), Prediction(uid='A5JLAU2ARJ0BO', iid='B000088NO8', r_ui=2.0, est=3.820626860285203, details={'was_impossible': False}), Prediction(uid='A5JLAU2ARJ0BO', iid='B00065HLT2', r_ui=5.0, est=3.820626860285203, details={'was_impossible': False}), Prediction(uid='ADLVFFE4VBT8', iid='B008HK3WK0', r_ui=1.0, est=4.285110683093085, details={'was_impossible': False}), Prediction(uid='ADLVFFE4VBT8', iid='B000TXZIDM', r_ui=4.0, est=4.285110683093085, details={'was_impossible': False}), Prediction(uid='ADLVFFE4VBT8', iid='B001F9IH8M', r_ui=5.0, est=4.285110683093085, details={'was_impossible': False}), Prediction(uid='ADLVFFE4VBT8', iid='B001TH7GUU', r_ui=5.0, est=4.285110683093085, details={'was_impossible': False}), Prediction(uid='A5JLAU2ARJ0BO', iid='B0000ACOW2', r_ui=1.0, est=3.820626860285203, details={'was_impossible': False}), Prediction(uid='A5JLAU2ARJ0BO', iid='B00008IP5R', r_ui=5.0, est=3.820626860285203, details={'was_impossible': False}), Prediction(uid='ADLVFFE4VBT8', iid='B000DZKUHA', r_ui=5.0, est=4.285110683093085, details={'was_impossible': False}), Prediction(uid='ADLVFFE4VBT8', iid='B002PHLZE6', r_ui=3.0, est=4.285110683093085, details={'was_impossible': False}), Prediction(uid='ADLVFFE4VBT8', iid='B000NWBVHQ', r_ui=2.0, est=4.285110683093085, details={'was_impossible': False}), Prediction(uid='ADLVFFE4VBT8', iid='B003VAM32E', r_ui=5.0, est=4.285110683093085, details={'was_impossible': False}), Prediction(uid='A5JLAU2ARJ0BO', iid='B00008PVXA', r_ui=5.0, est=3.820626860285203, details={'was_impossible': False}), Prediction(uid='ADLVFFE4VBT8', iid='B007M506WS', r_ui=5.0, est=4.285110683093085, details={'was_impossible': False}), Prediction(uid='ADLVFFE4VBT8', iid='B00AYTW80M', r_ui=5.0, est=4.285110683093085, details={'was_impossible': False}), Prediction(uid='A5JLAU2ARJ0BO', iid='B00004VX3T', r_ui=3.0, est=3.820626860285203, details={'was_impossible': False}), Prediction(uid='A5JLAU2ARJ0BO', iid='B0001P4V36', r_ui=5.0, est=3.820626860285203, details={'was_impossible': False}), Prediction(uid='A5JLAU2ARJ0BO', iid='B00006LFI5', r_ui=5.0, est=3.820626860285203, details={'was_impossible': False}), Prediction(uid='A5JLAU2ARJ0BO', iid='B0000CH58M', r_ui=5.0, est=3.820626860285203, details={'was_impossible': False}), Prediction(uid='ADLVFFE4VBT8', iid='B00HQCIDGI', r_ui=5.0, est=4.285110683093085, details={'was_impossible': False}), Prediction(uid='A5JLAU2ARJ0BO', iid='B004MF34S4', r_ui=5.0, est=3.820626860285203, details={'was_impossible': False}), Prediction(uid='A5JLAU2ARJ0BO', iid='B001F0QS9G', r_ui=5.0, est=3.820626860285203, details={'was_impossible': False}), Prediction(uid='ADLVFFE4VBT8', iid='B005Q0WDZE', r_ui=5.0, est=4.285110683093085, details={'was_impossible': False}), Prediction(uid='A5JLAU2ARJ0BO', iid='B0051GN9JC', r_ui=4.0, est=3.820626860285203, details={'was_impossible': False}), Prediction(uid='A5JLAU2ARJ0BO', iid='B008M11XPA', r_ui=5.0, est=3.820626860285203, details={'was_impossible': False}), Prediction(uid='ADLVFFE4VBT8', iid='B0019M9ESC', r_ui=5.0, est=4.285110683093085, details={'was_impossible': False}), Prediction(uid='ADLVFFE4VBT8', iid='B00EAR8S76', r_ui=3.0, est=4.285110683093085, details={'was_impossible': False}), Prediction(uid='ADLVFFE4VBT8', iid='B0015HSP86', r_ui=4.0, est=4.285110683093085, details={'was_impossible': False}), Prediction(uid='ADLVFFE4VBT8', iid='B00DQZOIOU', r_ui=4.0, est=4.285110683093085, details={'was_impossible': False}), Prediction(uid='A5JLAU2ARJ0BO', iid='B0002ZI07S', r_ui=2.0, est=3.820626860285203, details={'was_impossible': False}), Prediction(uid='A5JLAU2ARJ0BO', iid='B00006B80O', r_ui=5.0, est=3.820626860285203, details={'was_impossible': False}), Prediction(uid='ADLVFFE4VBT8', iid='B003VAK1I2', r_ui=4.0, est=4.318408461872342, details={'was_impossible': False}), Prediction(uid='ADLVFFE4VBT8', iid='B00006B8K2', r_ui=4.0, est=4.285110683093085, details={'was_impossible': False}), Prediction(uid='A5JLAU2ARJ0BO', iid='B0001MAB06', r_ui=5.0, est=3.820626860285203, details={'was_impossible': False}), Prediction(uid='ADLVFFE4VBT8', iid='B00JP12170', r_ui=4.0, est=4.285110683093085, details={'was_impossible': False}), Prediction(uid='A5JLAU2ARJ0BO', iid='B00008OE43', r_ui=5.0, est=3.820626860285203, details={'was_impossible': False}), Prediction(uid='ADLVFFE4VBT8', iid='B00DK2JQOQ', r_ui=5.0, est=4.285110683093085, details={'was_impossible': False}), Prediction(uid='ADLVFFE4VBT8', iid='B0011U65F2', r_ui=5.0, est=4.285110683093085, details={'was_impossible': False}), Prediction(uid='ADLVFFE4VBT8', iid='B00INNP5VU', r_ui=5.0, est=4.285110683093085, details={'was_impossible': False}), Prediction(uid='ADLVFFE4VBT8', iid='B000M6RX7K', r_ui=5.0, est=4.285110683093085, details={'was_impossible': False}), Prediction(uid='ADLVFFE4VBT8', iid='B001DDUV20', r_ui=4.0, est=4.285110683093085, details={'was_impossible': False}), Prediction(uid='A5JLAU2ARJ0BO', iid='B004ZP74JG', r_ui=5.0, est=3.820626860285203, details={'was_impossible': False}), Prediction(uid='ADLVFFE4VBT8', iid='B000LQFI2I', r_ui=5.0, est=4.285110683093085, details={'was_impossible': False}), Prediction(uid='A5JLAU2ARJ0BO', iid='B0001G6U5W', r_ui=5.0, est=3.820626860285203, details={'was_impossible': False}), Prediction(uid='ADLVFFE4VBT8', iid='B00ETBHOIM', r_ui=4.0, est=4.285110683093085, details={'was_impossible': False}), Prediction(uid='ADLVFFE4VBT8', iid='B004YI9NTS', r_ui=2.0, est=4.285110683093085, details={'was_impossible': False}), Prediction(uid='ADLVFFE4VBT8', iid='B007F9XHBI', r_ui=5.0, est=4.285110683093085, details={'was_impossible': False}), Prediction(uid='A5JLAU2ARJ0BO', iid='B0007UVYLC', r_ui=5.0, est=3.820626860285203, details={'was_impossible': False}), Prediction(uid='A5JLAU2ARJ0BO', iid='B0002TX7V8', r_ui=5.0, est=3.820626860285203, details={'was_impossible': False}), Prediction(uid='ADLVFFE4VBT8', iid='B003ES5ZSW', r_ui=5.0, est=4.285110683093085, details={'was_impossible': False}), Prediction(uid='A5JLAU2ARJ0BO', iid='B00008OLY0', r_ui=5.0, est=3.820626860285203, details={'was_impossible': False}), Prediction(uid='ADLVFFE4VBT8', iid='B00ENZRS76', r_ui=5.0, est=4.285110683093085, details={'was_impossible': False}), Prediction(uid='A5JLAU2ARJ0BO', iid='B0002ICEF4', r_ui=5.0, est=3.820626860285203, details={'was_impossible': False}), Prediction(uid='A5JLAU2ARJ0BO', iid='B0000A1VS1', r_ui=5.0, est=3.820626860285203, details={'was_impossible': False}), Prediction(uid='ADLVFFE4VBT8', iid='B001NEJO18', r_ui=4.0, est=4.285110683093085, details={'was_impossible': False}), Prediction(uid='A5JLAU2ARJ0BO', iid='B0006I5I7G', r_ui=1.0, est=3.820626860285203, details={'was_impossible': False}), Prediction(uid='A5JLAU2ARJ0BO', iid='B0001DB6LS', r_ui=3.0, est=3.820626860285203, details={'was_impossible': False}), Prediction(uid='ADLVFFE4VBT8', iid='B005FDXZJU', r_ui=5.0, est=4.285110683093085, details={'was_impossible': False}), Prediction(uid='A5JLAU2ARJ0BO', iid='B00006HYKM', r_ui=1.0, est=3.820626860285203, details={'was_impossible': False}), Prediction(uid='A5JLAU2ARJ0BO', iid='B004LB4S8E', r_ui=3.0, est=3.820626860285203, details={'was_impossible': False}), Prediction(uid='ADLVFFE4VBT8', iid='B002MW3G78', r_ui=4.0, est=4.285110683093085, details={'was_impossible': False}), Prediction(uid='ADLVFFE4VBT8', iid='B00BTJIJ40', r_ui=5.0, est=4.285110683093085, details={'was_impossible': False}), Prediction(uid='ADLVFFE4VBT8', iid='B0053R0WWG', r_ui=3.0, est=4.285110683093085, details={'was_impossible': False}), Prediction(uid='A5JLAU2ARJ0BO', iid='B000EEQ83K', r_ui=4.0, est=3.820626860285203, details={'was_impossible': False}), Prediction(uid='A5JLAU2ARJ0BO', iid='B00023CDL4', r_ui=1.0, est=3.820626860285203, details={'was_impossible': False}), Prediction(uid='ADLVFFE4VBT8', iid='B002JMYCTC', r_ui=4.0, est=4.285110683093085, details={'was_impossible': False}), Prediction(uid='A5JLAU2ARJ0BO', iid='B00009LI6N', r_ui=1.0, est=3.820626860285203, details={'was_impossible': False}), Prediction(uid='ADLVFFE4VBT8', iid='B001RK2ZBO', r_ui=5.0, est=4.285110683093085, details={'was_impossible': False}), Prediction(uid='ADLVFFE4VBT8', iid='B00DY2Y28M', r_ui=5.0, est=4.285110683093085, details={'was_impossible': False}), Prediction(uid='A5JLAU2ARJ0BO', iid='B00008VFCT', r_ui=5.0, est=3.820626860285203, details={'was_impossible': False}), Prediction(uid='A5JLAU2ARJ0BO', iid='B00078NIOA', r_ui=5.0, est=3.820626860285203, details={'was_impossible': False}), Prediction(uid='A5JLAU2ARJ0BO', iid='B0009I4VE4', r_ui=5.0, est=3.820626860285203, details={'was_impossible': False}), Prediction(uid='ADLVFFE4VBT8', iid='B00020BJA8', r_ui=4.0, est=4.285110683093085, details={'was_impossible': False}), Prediction(uid='A5JLAU2ARJ0BO', iid='B000087GHP', r_ui=3.0, est=3.820626860285203, details={'was_impossible': False}), Prediction(uid='ADLVFFE4VBT8', iid='B003P2UMOE', r_ui=5.0, est=4.285110683093085, details={'was_impossible': False}), Prediction(uid='ADLVFFE4VBT8', iid='B0053NBLFW', r_ui=5.0, est=4.285110683093085, details={'was_impossible': False}), Prediction(uid='A5JLAU2ARJ0BO', iid='B00005NKXS', r_ui=5.0, est=3.820626860285203, details={'was_impossible': False}), Prediction(uid='ADLVFFE4VBT8', iid='B001XXAZH6', r_ui=3.0, est=4.285110683093085, details={'was_impossible': False}), Prediction(uid='ADLVFFE4VBT8', iid='B002R5AM7C', r_ui=2.0, est=4.285110683093085, details={'was_impossible': False}), Prediction(uid='A5JLAU2ARJ0BO', iid='B00021Z98A', r_ui=5.0, est=3.820626860285203, details={'was_impossible': False}), Prediction(uid='ADLVFFE4VBT8', iid='B009WZRCO6', r_ui=4.0, est=4.285110683093085, details={'was_impossible': False}), Prediction(uid='ADLVFFE4VBT8', iid='B000MF7R4K', r_ui=4.0, est=4.285110683093085, details={'was_impossible': False}), Prediction(uid='ADLVFFE4VBT8', iid='B004CLYEH8', r_ui=5.0, est=4.285110683093085, details={'was_impossible': False}), Prediction(uid='ADLVFFE4VBT8', iid='B0007SKSES', r_ui=5.0, est=4.285110683093085, details={'was_impossible': False}), Prediction(uid='A5JLAU2ARJ0BO', iid='B00005Q7DH', r_ui=5.0, est=3.820626860285203, details={'was_impossible': False}), Prediction(uid='A5JLAU2ARJ0BO', iid='B0000AINEH', r_ui=5.0, est=3.820626860285203, details={'was_impossible': False}), Prediction(uid='A5JLAU2ARJ0BO', iid='B000068DB8', r_ui=5.0, est=3.820626860285203, details={'was_impossible': False}), Prediction(uid='ADLVFFE4VBT8', iid='B00005114Z', r_ui=5.0, est=4.285110683093085, details={'was_impossible': False}), Prediction(uid='A5JLAU2ARJ0BO', iid='B000M4J2OO', r_ui=5.0, est=3.820626860285203, details={'was_impossible': False}), Prediction(uid='A5JLAU2ARJ0BO', iid='B0002CPBUK', r_ui=5.0, est=3.820626860285203, details={'was_impossible': False}), Prediction(uid='ADLVFFE4VBT8', iid='B008X9Z7N0', r_ui=4.0, est=4.285110683093085, details={'was_impossible': False}), Prediction(uid='ADLVFFE4VBT8', iid='B00267S7XW', r_ui=5.0, est=4.285110683093085, details={'was_impossible': False}), Prediction(uid='A5JLAU2ARJ0BO', iid='B000636JD8', r_ui=2.0, est=3.820626860285203, details={'was_impossible': False}), Prediction(uid='A5JLAU2ARJ0BO', iid='B005X64M2S', r_ui=4.0, est=3.820626860285203, details={'was_impossible': False}), Prediction(uid='A5JLAU2ARJ0BO', iid='B00005QCU3', r_ui=5.0, est=3.820626860285203, details={'was_impossible': False}), Prediction(uid='ADLVFFE4VBT8', iid='B001OC6DCW', r_ui=5.0, est=4.285110683093085, details={'was_impossible': False}), Prediction(uid='A5JLAU2ARJ0BO', iid='B000063CWQ', r_ui=5.0, est=3.820626860285203, details={'was_impossible': False}), Prediction(uid='ADLVFFE4VBT8', iid='B000VG0NAU', r_ui=3.0, est=4.285110683093085, details={'was_impossible': False}), Prediction(uid='ADLVFFE4VBT8', iid='B005FDXMJS', r_ui=5.0, est=4.285110683093085, details={'was_impossible': False}), Prediction(uid='ADLVFFE4VBT8', iid='B00123WZWK', r_ui=5.0, est=4.285110683093085, details={'was_impossible': False}), Prediction(uid='ADLVFFE4VBT8', iid='B00EZJQY0C', r_ui=4.0, est=4.285110683093085, details={'was_impossible': False}), Prediction(uid='ADLVFFE4VBT8', iid='B001D7REIK', r_ui=5.0, est=4.285110683093085, details={'was_impossible': False}), Prediction(uid='ADLVFFE4VBT8', iid='B00AYQ433U', r_ui=5.0, est=4.285110683093085, details={'was_impossible': False}), Prediction(uid='A5JLAU2ARJ0BO', iid='B000IMWF8U', r_ui=1.0, est=3.820626860285203, details={'was_impossible': False}), Prediction(uid='A5JLAU2ARJ0BO', iid='B0009RKL5S', r_ui=1.0, est=3.820626860285203, details={'was_impossible': False}), Prediction(uid='ADLVFFE4VBT8', iid='B000069V21', r_ui=3.0, est=4.285110683093085, details={'was_impossible': False}), Prediction(uid='ADLVFFE4VBT8', iid='B0019K3VBU', r_ui=4.0, est=4.285110683093085, details={'was_impossible': False}), Prediction(uid='ADLVFFE4VBT8', iid='B000J38QBS', r_ui=5.0, est=4.285110683093085, details={'was_impossible': False}), Prediction(uid='ADLVFFE4VBT8', iid='B002C73WRW', r_ui=5.0, est=4.285110683093085, details={'was_impossible': False}), Prediction(uid='A5JLAU2ARJ0BO', iid='B000F3RI3O', r_ui=5.0, est=3.820626860285203, details={'was_impossible': False}), Prediction(uid='A5JLAU2ARJ0BO', iid='B002BDU89M', r_ui=2.0, est=3.820626860285203, details={'was_impossible': False}), Prediction(uid='ADLVFFE4VBT8', iid='B002MAPSQM', r_ui=5.0, est=4.285110683093085, details={'was_impossible': False}), Prediction(uid='ADLVFFE4VBT8', iid='B0043T7FXE', r_ui=5.0, est=4.285110683093085, details={'was_impossible': False}), Prediction(uid='A5JLAU2ARJ0BO', iid='B0001MHL0Y', r_ui=3.0, est=3.820626860285203, details={'was_impossible': False}), Prediction(uid='A5JLAU2ARJ0BO', iid='B0000CEOYI', r_ui=3.0, est=3.820626860285203, details={'was_impossible': False}), Prediction(uid='A5JLAU2ARJ0BO', iid='B0002PSINY', r_ui=4.0, est=3.820626860285203, details={'was_impossible': False}), Prediction(uid='ADLVFFE4VBT8', iid='B009LL9VDG', r_ui=5.0, est=4.285110683093085, details={'was_impossible': False}), Prediction(uid='ADLVFFE4VBT8', iid='B0011FQUUW', r_ui=5.0, est=4.285110683093085, details={'was_impossible': False}), Prediction(uid='A5JLAU2ARJ0BO', iid='B0002OIWZE', r_ui=1.0, est=3.820626860285203, details={'was_impossible': False}), Prediction(uid='ADLVFFE4VBT8', iid='B00165XQWW', r_ui=5.0, est=4.285110683093085, details={'was_impossible': False}), Prediction(uid='ADLVFFE4VBT8', iid='B006LZNP3M', r_ui=4.0, est=4.285110683093085, details={'was_impossible': False}), Prediction(uid='A5JLAU2ARJ0BO', iid='B0002TA96Y', r_ui=5.0, est=3.820626860285203, details={'was_impossible': False}), Prediction(uid='A5JLAU2ARJ0BO', iid='B00004T1KZ', r_ui=4.0, est=3.820626860285203, details={'was_impossible': False}), Prediction(uid='A5JLAU2ARJ0BO', iid='B000A2K3Y6', r_ui=5.0, est=3.820626860285203, details={'was_impossible': False}), Prediction(uid='A5JLAU2ARJ0BO', iid='B00008IP5S', r_ui=5.0, est=3.820626860285203, details={'was_impossible': False}), Prediction(uid='A5JLAU2ARJ0BO', iid='B00006HXRA', r_ui=5.0, est=3.820626860285203, details={'was_impossible': False}), Prediction(uid='ADLVFFE4VBT8', iid='B008AGP5H4', r_ui=5.0, est=4.285110683093085, details={'was_impossible': False}), Prediction(uid='ADLVFFE4VBT8', iid='B000OH56ZS', r_ui=4.0, est=4.285110683093085, details={'was_impossible': False}), Prediction(uid='A5JLAU2ARJ0BO', iid='B000WKPHI8', r_ui=4.0, est=3.820626860285203, details={'was_impossible': False}), Prediction(uid='ADLVFFE4VBT8', iid='B004MSI7UQ', r_ui=5.0, est=4.285110683093085, details={'was_impossible': False}), Prediction(uid='ADLVFFE4VBT8', iid='B00FGOTA6K', r_ui=4.0, est=4.285110683093085, details={'was_impossible': False}), Prediction(uid='A5JLAU2ARJ0BO', iid='B0000DBJV5', r_ui=3.0, est=3.820626860285203, details={'was_impossible': False}), Prediction(uid='ADLVFFE4VBT8', iid='B001JTQCU8', r_ui=5.0, est=4.285110683093085, details={'was_impossible': False}), Prediction(uid='ADLVFFE4VBT8', iid='B001D8GR00', r_ui=5.0, est=4.285110683093085, details={'was_impossible': False}), Prediction(uid='A5JLAU2ARJ0BO', iid='B000AV14M2', r_ui=2.0, est=3.820626860285203, details={'was_impossible': False}), Prediction(uid='ADLVFFE4VBT8', iid='B00BGCQ3T8', r_ui=4.0, est=4.285110683093085, details={'was_impossible': False}), Prediction(uid='ADLVFFE4VBT8', iid='B002SQK2F2', r_ui=4.0, est=4.285110683093085, details={'was_impossible': False}), Prediction(uid='ADLVFFE4VBT8', iid='B000UF3FT8', r_ui=1.0, est=4.285110683093085, details={'was_impossible': False}), Prediction(uid='A5JLAU2ARJ0BO', iid='B0001G6U5M', r_ui=5.0, est=3.820626860285203, details={'was_impossible': False}), Prediction(uid='ADLVFFE4VBT8', iid='B00A3YDKRI', r_ui=4.0, est=4.285110683093085, details={'was_impossible': False}), Prediction(uid='ADLVFFE4VBT8', iid='B000M51NRM', r_ui=5.0, est=4.285110683093085, details={'was_impossible': False}), Prediction(uid='ADLVFFE4VBT8', iid='B00AOYX2DO', r_ui=3.0, est=4.285110683093085, details={'was_impossible': False}), Prediction(uid='A5JLAU2ARJ0BO', iid='B0007GIXQU', r_ui=5.0, est=3.820626860285203, details={'was_impossible': False}), Prediction(uid='A5JLAU2ARJ0BO', iid='B0001G6U9I', r_ui=4.0, est=3.820626860285203, details={'was_impossible': False}), Prediction(uid='A5JLAU2ARJ0BO', iid='B0001YIA16', r_ui=1.0, est=3.820626860285203, details={'was_impossible': False}), Prediction(uid='ADLVFFE4VBT8', iid='B00009V2WA', r_ui=5.0, est=4.285110683093085, details={'was_impossible': False}), Prediction(uid='A5JLAU2ARJ0BO', iid='B00020VX9K', r_ui=5.0, est=3.820626860285203, details={'was_impossible': False}), Prediction(uid='A5JLAU2ARJ0BO', iid='B0009U5XN0', r_ui=5.0, est=3.820626860285203, details={'was_impossible': False}), Prediction(uid='ADLVFFE4VBT8', iid='B000Y8EXSS', r_ui=3.0, est=4.285110683093085, details={'was_impossible': False}), Prediction(uid='ADLVFFE4VBT8', iid='B004KPLNO8', r_ui=4.0, est=4.463353695808244, details={'was_impossible': False}), Prediction(uid='A5JLAU2ARJ0BO', iid='B001LK6XFY', r_ui=5.0, est=3.820626860285203, details={'was_impossible': False}), Prediction(uid='A5JLAU2ARJ0BO', iid='B00EPQ97C2', r_ui=2.0, est=3.820626860285203, details={'was_impossible': False}), Prediction(uid='A5JLAU2ARJ0BO', iid='B000087L74', r_ui=4.0, est=3.820626860285203, details={'was_impossible': False}), Prediction(uid='A5JLAU2ARJ0BO', iid='B00008LDHZ', r_ui=2.0, est=3.820626860285203, details={'was_impossible': False}), Prediction(uid='ADLVFFE4VBT8', iid='B00E3PFW9C', r_ui=5.0, est=4.285110683093085, details={'was_impossible': False}), Prediction(uid='ADLVFFE4VBT8', iid='B007JIBAZA', r_ui=2.0, est=4.285110683093085, details={'was_impossible': False}), Prediction(uid='A5JLAU2ARJ0BO', iid='B002HWRK66', r_ui=5.0, est=3.820626860285203, details={'was_impossible': False}), Prediction(uid='ADLVFFE4VBT8', iid='B003VWY0VY', r_ui=5.0, est=4.285110683093085, details={'was_impossible': False}), Prediction(uid='A5JLAU2ARJ0BO', iid='B009YE461W', r_ui=3.0, est=3.820626860285203, details={'was_impossible': False}), Prediction(uid='ADLVFFE4VBT8', iid='B004TUPCFK', r_ui=4.0, est=4.285110683093085, details={'was_impossible': False}), Prediction(uid='A5JLAU2ARJ0BO', iid='B00006A8ZP', r_ui=1.0, est=3.820626860285203, details={'was_impossible': False}), Prediction(uid='ADLVFFE4VBT8', iid='B00A3YDPWS', r_ui=5.0, est=4.285110683093085, details={'was_impossible': False}), Prediction(uid='A5JLAU2ARJ0BO', iid='B00015GYU4', r_ui=5.0, est=3.820626860285203, details={'was_impossible': False}), Prediction(uid='A5JLAU2ARJ0BO', iid='B0000630MK', r_ui=3.0, est=3.820626860285203, details={'was_impossible': False})]\n",
            "\n",
            "SVD : Test Set RMSE\n",
            "RMSE: 1.2513\n",
            "\n",
            "SVD : Test Set MAE\n",
            "MAE:  1.0311\n"
          ],
          "name": "stdout"
        },
        {
          "output_type": "execute_result",
          "data": {
            "text/plain": [
              "1.0310890279186578"
            ]
          },
          "metadata": {
            "tags": []
          },
          "execution_count": 52
        }
      ]
    },
    {
      "cell_type": "code",
      "metadata": {
        "id": "uH8Fa0A_ZT9P",
        "colab_type": "code",
        "colab": {
          "base_uri": "https://localhost:8080/",
          "height": 190
        },
        "outputId": "dca1d198-5604-4b9d-fb2d-68e608fa67eb"
      },
      "source": [
        "# Let's double check RMSE using KNNWithMeans for user based and item based filtering\n",
        "# Use user_based true/false to switch between user-based or item-based collaborative filtering\n",
        "\n",
        "knn_usermodel = KNNWithMeans(k=5, sim_options={'name': 'pearson_baseline', 'user_based': True})\n",
        "knn_usermodel.fit(trainset)\n",
        "\n",
        "# get a prediction for specific users and items.\n",
        "pred = knn_usermodel.predict(uid, iid, verbose=True)\n",
        "\n",
        "# run the trained model against the testset\n",
        "knnusertest_pred = knn_usermodel.test(testset)\n",
        "\n",
        "# get RMSE\n",
        "print(\"User-based Model : Test Set RMSE\")\n",
        "knnuser_rmse = accuracy.rmse(knnusertest_pred, verbose=True)\n",
        "knnuser_rmse\n",
        "\n",
        "# get MAE\n",
        "print(\"User-based Model : Test Set MAE\")\n",
        "knnuser_mae = accuracy.mae(knnusertest_pred, verbose=True)\n",
        "knnuser_mae"
      ],
      "execution_count": 53,
      "outputs": [
        {
          "output_type": "stream",
          "text": [
            "Estimating biases using als...\n",
            "Computing the pearson_baseline similarity matrix...\n",
            "Done computing similarity matrix.\n",
            "user: 15         item: 121        r_ui = None   est = 4.05   {'was_impossible': True, 'reason': 'User and/or item is unkown.'}\n",
            "User-based Model : Test Set RMSE\n",
            "RMSE: 1.2700\n",
            "User-based Model : Test Set MAE\n",
            "MAE:  1.0099\n"
          ],
          "name": "stdout"
        },
        {
          "output_type": "execute_result",
          "data": {
            "text/plain": [
              "1.0098814770207758"
            ]
          },
          "metadata": {
            "tags": []
          },
          "execution_count": 53
        }
      ]
    },
    {
      "cell_type": "code",
      "metadata": {
        "id": "Btt2FlqylFjd",
        "colab_type": "code",
        "colab": {
          "base_uri": "https://localhost:8080/",
          "height": 85
        },
        "outputId": "e5882e61-15bc-4835-90a0-0bfc23038a6f"
      },
      "source": [
        "# Use user_based true/false to switch between user-based or item-based collaborative filtering\n",
        "knnitem_model = KNNWithMeans(k=5, sim_options={'name': 'pearson_baseline', 'user_based': False})\n",
        "knnitem_model.fit(trainset)"
      ],
      "execution_count": 54,
      "outputs": [
        {
          "output_type": "stream",
          "text": [
            "Estimating biases using als...\n",
            "Computing the pearson_baseline similarity matrix...\n",
            "Done computing similarity matrix.\n"
          ],
          "name": "stdout"
        },
        {
          "output_type": "execute_result",
          "data": {
            "text/plain": [
              "<surprise.prediction_algorithms.knns.KNNWithMeans at 0x7f4ab7944ac8>"
            ]
          },
          "metadata": {
            "tags": []
          },
          "execution_count": 54
        }
      ]
    },
    {
      "cell_type": "code",
      "metadata": {
        "id": "5ZuFf8x-A16g",
        "colab_type": "code",
        "colab": {
          "base_uri": "https://localhost:8080/",
          "height": 102
        },
        "outputId": "6a706539-84a6-4f95-875e-38afa87b1e31"
      },
      "source": [
        "\n",
        "# run the trained model against the testset\n",
        "kmmitemtest_pred = knnitem_model.test(testset)\n",
        "\n",
        "# get RMSE\n",
        "print(\"Item-based Model : Test Set RMSE\")\n",
        "knnitem_rmse = accuracy.rmse(kmmitemtest_pred, verbose=True)\n",
        "knnitem_rmse\n",
        "\n",
        "# get MAE\n",
        "print(\"Item-based Model : Test Set RMSE\")\n",
        "knnitem_mae = accuracy.mae(kmmitemtest_pred, verbose=True)\n",
        "knnitem_mae"
      ],
      "execution_count": 55,
      "outputs": [
        {
          "output_type": "stream",
          "text": [
            "Item-based Model : Test Set RMSE\n",
            "RMSE: 1.2706\n",
            "Item-based Model : Test Set RMSE\n",
            "MAE:  1.0099\n"
          ],
          "name": "stdout"
        },
        {
          "output_type": "execute_result",
          "data": {
            "text/plain": [
              "1.0098814770207758"
            ]
          },
          "metadata": {
            "tags": []
          },
          "execution_count": 55
        }
      ]
    },
    {
      "cell_type": "code",
      "metadata": {
        "id": "J_vBScsbOWxB",
        "colab_type": "code",
        "colab": {
          "base_uri": "https://localhost:8080/",
          "height": 142
        },
        "outputId": "37e24901-59b7-4b44-d451-0b5c53f35cf9"
      },
      "source": [
        "# Store various scores results for each kernel in a dataframe for final comparison\n",
        "\n",
        "resultsDf = pd.DataFrame({'Model':['SVD'], 'RMSE': svd_rmse, 'MAE': svd_mae},index={'1'})\n",
        "resultsDf = resultsDf[['Model','RMSE','MAE']]\n",
        "\n",
        "tempResultsDf = pd.DataFrame({'Model':['KNNWithMeans UserBased'], 'RMSE': knnuser_rmse, 'MAE': knnuser_mae},index={'2'})\n",
        "resultsDf = pd.concat([resultsDf, tempResultsDf])\n",
        "resultsDf = resultsDf[['Model','RMSE','MAE']]\n",
        "\n",
        "tempResultsDf = pd.DataFrame({'Model':['KNNWithMeans ItemBased'], 'RMSE': knnitem_rmse, 'MAE': knnitem_mae},index={'2'})\n",
        "resultsDf = pd.concat([resultsDf, tempResultsDf])\n",
        "resultsDf = resultsDf[['Model','RMSE','MAE']]\n",
        "\n",
        "resultsDf"
      ],
      "execution_count": 57,
      "outputs": [
        {
          "output_type": "execute_result",
          "data": {
            "text/html": [
              "<div>\n",
              "<style scoped>\n",
              "    .dataframe tbody tr th:only-of-type {\n",
              "        vertical-align: middle;\n",
              "    }\n",
              "\n",
              "    .dataframe tbody tr th {\n",
              "        vertical-align: top;\n",
              "    }\n",
              "\n",
              "    .dataframe thead th {\n",
              "        text-align: right;\n",
              "    }\n",
              "</style>\n",
              "<table border=\"1\" class=\"dataframe\">\n",
              "  <thead>\n",
              "    <tr style=\"text-align: right;\">\n",
              "      <th></th>\n",
              "      <th>Model</th>\n",
              "      <th>RMSE</th>\n",
              "      <th>MAE</th>\n",
              "    </tr>\n",
              "  </thead>\n",
              "  <tbody>\n",
              "    <tr>\n",
              "      <th>1</th>\n",
              "      <td>SVD</td>\n",
              "      <td>1.251257</td>\n",
              "      <td>1.031089</td>\n",
              "    </tr>\n",
              "    <tr>\n",
              "      <th>2</th>\n",
              "      <td>KNNWithMeans UserBased</td>\n",
              "      <td>1.269978</td>\n",
              "      <td>1.009881</td>\n",
              "    </tr>\n",
              "    <tr>\n",
              "      <th>2</th>\n",
              "      <td>KNNWithMeans ItemBased</td>\n",
              "      <td>1.270602</td>\n",
              "      <td>1.009881</td>\n",
              "    </tr>\n",
              "  </tbody>\n",
              "</table>\n",
              "</div>"
            ],
            "text/plain": [
              "                    Model      RMSE       MAE\n",
              "1                     SVD  1.251257  1.031089\n",
              "2  KNNWithMeans UserBased  1.269978  1.009881\n",
              "2  KNNWithMeans ItemBased  1.270602  1.009881"
            ]
          },
          "metadata": {
            "tags": []
          },
          "execution_count": 57
        }
      ]
    },
    {
      "cell_type": "markdown",
      "metadata": {
        "id": "6r1IQM6Uu1Cz",
        "colab_type": "text"
      },
      "source": [
        "From the above results, it is observed that SVD has good RMSE score, so we will use it for further prediction"
      ]
    },
    {
      "cell_type": "markdown",
      "metadata": {
        "id": "V2_JNSyJQWQm",
        "colab_type": "text"
      },
      "source": [
        "# 7. Get top - K ( K = 5) recommendations. Since our goal is to recommend new products to each user based on his/her habits, we will recommend 5 new products. ( 10 marks)"
      ]
    },
    {
      "cell_type": "code",
      "metadata": {
        "id": "HYth31u9g-hZ",
        "colab_type": "code",
        "colab": {
          "base_uri": "https://localhost:8080/",
          "height": 102
        },
        "outputId": "a18ce163-795d-41fa-89eb-67479b2a3130"
      },
      "source": [
        "#Convert result to DF\n",
        "\n",
        "test_pred_df = pd.DataFrame(svdtest_pred)\n",
        "test_pred_df\n",
        "\n",
        "# Return a list of ratings that can be used as a testset in the test() method. \n",
        "# The ratings are all the ratings that are not in the trainset,\n",
        "testset_new = trainset.build_anti_testset() \n",
        "len(testset_new)\n",
        "\n",
        "testset_new[0:5]"
      ],
      "execution_count": 58,
      "outputs": [
        {
          "output_type": "execute_result",
          "data": {
            "text/plain": [
              "[('A5JLAU2ARJ0BO', 'B0079R8KO0', 4.054621848739496),\n",
              " ('A5JLAU2ARJ0BO', 'B000Q8UAWY', 4.054621848739496),\n",
              " ('A5JLAU2ARJ0BO', 'B001HA51Z6', 4.054621848739496),\n",
              " ('A5JLAU2ARJ0BO', 'B00HLDFUM2', 4.054621848739496),\n",
              " ('A5JLAU2ARJ0BO', 'B0079MX4Q4', 4.054621848739496)]"
            ]
          },
          "metadata": {
            "tags": []
          },
          "execution_count": 58
        }
      ]
    },
    {
      "cell_type": "code",
      "metadata": {
        "id": "ghUkEEaB6q52",
        "colab_type": "code",
        "colab": {
          "base_uri": "https://localhost:8080/",
          "height": 204
        },
        "outputId": "597130b0-d25f-45a8-c489-8fc5b3d8dc42"
      },
      "source": [
        "# Find predictions using SVD algo with the testset\n",
        "predictions = svdalgo.test(testset_new)\n",
        "\n",
        "predictions_df = pd.DataFrame([[x.uid,x.iid,x.est] for x in predictions])\n",
        "predictions_df.head()\n",
        "\n",
        "predictions_df.columns = [\"userId\",\"productId\",\"rating\"]\n",
        "predictions_df.sort_values(by = [\"userId\",\"productId\",\"rating\"],ascending=False,inplace=True)\n",
        "predictions_df.head()\n"
      ],
      "execution_count": 59,
      "outputs": [
        {
          "output_type": "execute_result",
          "data": {
            "text/html": [
              "<div>\n",
              "<style scoped>\n",
              "    .dataframe tbody tr th:only-of-type {\n",
              "        vertical-align: middle;\n",
              "    }\n",
              "\n",
              "    .dataframe tbody tr th {\n",
              "        vertical-align: top;\n",
              "    }\n",
              "\n",
              "    .dataframe thead th {\n",
              "        text-align: right;\n",
              "    }\n",
              "</style>\n",
              "<table border=\"1\" class=\"dataframe\">\n",
              "  <thead>\n",
              "    <tr style=\"text-align: right;\">\n",
              "      <th></th>\n",
              "      <th>userId</th>\n",
              "      <th>productId</th>\n",
              "      <th>rating</th>\n",
              "    </tr>\n",
              "  </thead>\n",
              "  <tbody>\n",
              "    <tr>\n",
              "      <th>464</th>\n",
              "      <td>ADLVFFE4VBT8</td>\n",
              "      <td>B00GC1ZMYA</td>\n",
              "      <td>4.517208</td>\n",
              "    </tr>\n",
              "    <tr>\n",
              "      <th>622</th>\n",
              "      <td>ADLVFFE4VBT8</td>\n",
              "      <td>B00FR6VL50</td>\n",
              "      <td>4.616807</td>\n",
              "    </tr>\n",
              "    <tr>\n",
              "      <th>367</th>\n",
              "      <td>ADLVFFE4VBT8</td>\n",
              "      <td>B00FJRS5BA</td>\n",
              "      <td>4.250579</td>\n",
              "    </tr>\n",
              "    <tr>\n",
              "      <th>440</th>\n",
              "      <td>ADLVFFE4VBT8</td>\n",
              "      <td>B00EOE4G4E</td>\n",
              "      <td>3.913664</td>\n",
              "    </tr>\n",
              "    <tr>\n",
              "      <th>490</th>\n",
              "      <td>ADLVFFE4VBT8</td>\n",
              "      <td>B00D6KQ2GC</td>\n",
              "      <td>3.633521</td>\n",
              "    </tr>\n",
              "  </tbody>\n",
              "</table>\n",
              "</div>"
            ],
            "text/plain": [
              "           userId   productId    rating\n",
              "464  ADLVFFE4VBT8  B00GC1ZMYA  4.517208\n",
              "622  ADLVFFE4VBT8  B00FR6VL50  4.616807\n",
              "367  ADLVFFE4VBT8  B00FJRS5BA  4.250579\n",
              "440  ADLVFFE4VBT8  B00EOE4G4E  3.913664\n",
              "490  ADLVFFE4VBT8  B00D6KQ2GC  3.633521"
            ]
          },
          "metadata": {
            "tags": []
          },
          "execution_count": 59
        }
      ]
    },
    {
      "cell_type": "code",
      "metadata": {
        "id": "7-H93ZL8GRdV",
        "colab_type": "code",
        "colab": {
          "base_uri": "https://localhost:8080/",
          "height": 359
        },
        "outputId": "ad566cba-fb1e-43ea-9efa-d30144324b2a"
      },
      "source": [
        "# Representing top 5 Recommendations for each Customers by SVD\n",
        "\n",
        "top_5_recos = predictions_df.groupby(\"userId\").head().reset_index(drop=True)\n",
        "top_5_recos"
      ],
      "execution_count": 60,
      "outputs": [
        {
          "output_type": "execute_result",
          "data": {
            "text/html": [
              "<div>\n",
              "<style scoped>\n",
              "    .dataframe tbody tr th:only-of-type {\n",
              "        vertical-align: middle;\n",
              "    }\n",
              "\n",
              "    .dataframe tbody tr th {\n",
              "        vertical-align: top;\n",
              "    }\n",
              "\n",
              "    .dataframe thead th {\n",
              "        text-align: right;\n",
              "    }\n",
              "</style>\n",
              "<table border=\"1\" class=\"dataframe\">\n",
              "  <thead>\n",
              "    <tr style=\"text-align: right;\">\n",
              "      <th></th>\n",
              "      <th>userId</th>\n",
              "      <th>productId</th>\n",
              "      <th>rating</th>\n",
              "    </tr>\n",
              "  </thead>\n",
              "  <tbody>\n",
              "    <tr>\n",
              "      <th>0</th>\n",
              "      <td>ADLVFFE4VBT8</td>\n",
              "      <td>B00GC1ZMYA</td>\n",
              "      <td>4.517208</td>\n",
              "    </tr>\n",
              "    <tr>\n",
              "      <th>1</th>\n",
              "      <td>ADLVFFE4VBT8</td>\n",
              "      <td>B00FR6VL50</td>\n",
              "      <td>4.616807</td>\n",
              "    </tr>\n",
              "    <tr>\n",
              "      <th>2</th>\n",
              "      <td>ADLVFFE4VBT8</td>\n",
              "      <td>B00FJRS5BA</td>\n",
              "      <td>4.250579</td>\n",
              "    </tr>\n",
              "    <tr>\n",
              "      <th>3</th>\n",
              "      <td>ADLVFFE4VBT8</td>\n",
              "      <td>B00EOE4G4E</td>\n",
              "      <td>3.913664</td>\n",
              "    </tr>\n",
              "    <tr>\n",
              "      <th>4</th>\n",
              "      <td>ADLVFFE4VBT8</td>\n",
              "      <td>B00D6KQ2GC</td>\n",
              "      <td>3.633521</td>\n",
              "    </tr>\n",
              "    <tr>\n",
              "      <th>5</th>\n",
              "      <td>A5JLAU2ARJ0BO</td>\n",
              "      <td>B00L3YHF6O</td>\n",
              "      <td>3.657221</td>\n",
              "    </tr>\n",
              "    <tr>\n",
              "      <th>6</th>\n",
              "      <td>A5JLAU2ARJ0BO</td>\n",
              "      <td>B00JX1ZS5O</td>\n",
              "      <td>4.272866</td>\n",
              "    </tr>\n",
              "    <tr>\n",
              "      <th>7</th>\n",
              "      <td>A5JLAU2ARJ0BO</td>\n",
              "      <td>B00JWXTOIA</td>\n",
              "      <td>4.428451</td>\n",
              "    </tr>\n",
              "    <tr>\n",
              "      <th>8</th>\n",
              "      <td>A5JLAU2ARJ0BO</td>\n",
              "      <td>B00JP7R7DC</td>\n",
              "      <td>3.851370</td>\n",
              "    </tr>\n",
              "    <tr>\n",
              "      <th>9</th>\n",
              "      <td>A5JLAU2ARJ0BO</td>\n",
              "      <td>B00JDAIMQ2</td>\n",
              "      <td>3.938457</td>\n",
              "    </tr>\n",
              "  </tbody>\n",
              "</table>\n",
              "</div>"
            ],
            "text/plain": [
              "          userId   productId    rating\n",
              "0   ADLVFFE4VBT8  B00GC1ZMYA  4.517208\n",
              "1   ADLVFFE4VBT8  B00FR6VL50  4.616807\n",
              "2   ADLVFFE4VBT8  B00FJRS5BA  4.250579\n",
              "3   ADLVFFE4VBT8  B00EOE4G4E  3.913664\n",
              "4   ADLVFFE4VBT8  B00D6KQ2GC  3.633521\n",
              "5  A5JLAU2ARJ0BO  B00L3YHF6O  3.657221\n",
              "6  A5JLAU2ARJ0BO  B00JX1ZS5O  4.272866\n",
              "7  A5JLAU2ARJ0BO  B00JWXTOIA  4.428451\n",
              "8  A5JLAU2ARJ0BO  B00JP7R7DC  3.851370\n",
              "9  A5JLAU2ARJ0BO  B00JDAIMQ2  3.938457"
            ]
          },
          "metadata": {
            "tags": []
          },
          "execution_count": 60
        }
      ]
    },
    {
      "cell_type": "markdown",
      "metadata": {
        "id": "66ZmjSJr3cMT",
        "colab_type": "text"
      },
      "source": [
        "from collections import defaultdict\n",
        "\n",
        "def get_top_n(predictions, n):\n",
        "    # First map the predictions to each user.\n",
        "    top_n = defaultdict(list)\n",
        "    for uid, iid, true_r, est, _ in predictions:\n",
        "        top_n[uid].append((iid, est))\n",
        "\n",
        "    # Then sort the predictions for each user and retrieve the k highest ones.\n",
        "    for uid, user_ratings in top_n.items():\n",
        "        user_ratings.sort(key=lambda x: x[1], reverse=True)\n",
        "        top_n[uid] = user_ratings[:n]\n",
        "\n",
        "    return top_n"
      ]
    },
    {
      "cell_type": "markdown",
      "metadata": {
        "id": "BILdoA0E3dEs",
        "colab_type": "text"
      },
      "source": [
        "top_n = get_top_n(predictions, n=5) # Representing top 5 Recommendations for each Customers by SVD"
      ]
    },
    {
      "cell_type": "markdown",
      "metadata": {
        "id": "VCyWyIYz3dJy",
        "colab_type": "text"
      },
      "source": [
        "# Print the recommended items for each user selected as example earlier\n",
        "for uid, user_ratings in top_n.items():\n",
        "    print(\"\\n \", uid, [iid for (iid, _) in user_ratings])"
      ]
    },
    {
      "cell_type": "code",
      "metadata": {
        "id": "VFNNHPi03dOg",
        "colab_type": "code",
        "colab": {}
      },
      "source": [
        ""
      ],
      "execution_count": 44,
      "outputs": []
    },
    {
      "cell_type": "markdown",
      "metadata": {
        "id": "NKEmo-rjQNXt",
        "colab_type": "text"
      },
      "source": [
        "# 8. Insights\n",
        "\n"
      ]
    },
    {
      "cell_type": "markdown",
      "metadata": {
        "id": "nviH2Y-morIq",
        "colab_type": "text"
      },
      "source": [
        "\n",
        "We used two collaborative filtering models for recommendations:\n",
        "\n",
        "1) Memory based : User-item filtering and Item-item filtering (KNN)\n",
        "\n",
        "2) Model based: Matrix Factorization based : orthogonal factorization (SVD) \n",
        "\n",
        "Also, we use popularity based model to find recommendations for users which are similar for all users.\n",
        "\n",
        "As observed, collaborative filtering model gives different recommendations for each user as per their activities in terms of product ratings\n",
        "\n"
      ]
    },
    {
      "cell_type": "code",
      "metadata": {
        "id": "UvE0-lnbJnzx",
        "colab_type": "code",
        "colab": {}
      },
      "source": [
        "# Parameter space\n",
        "svd_param_grid = {'n_epochs': [20, 25], \n",
        "                  'lr_all': [0.007, 0.009, 0.01],\n",
        "                  'reg_all': [0.4, 0.6]}\n",
        "\n",
        "svdpp_gs = GridSearchCV(SVDpp, svd_param_grid, measures=['rmse', 'mae'], cv=5, n_jobs=5)\n",
        "svdpp_gs.fit(data_new)\n",
        "\n",
        "svd_gs = GridSearchCV(SVD, svd_param_grid, measures=['rmse', 'mae'], cv=5, n_jobs=5)\n",
        "svd_gs.fit(data_new)"
      ],
      "execution_count": 75,
      "outputs": []
    },
    {
      "cell_type": "code",
      "metadata": {
        "id": "HjMiUzU7S9Mh",
        "colab_type": "code",
        "colab": {
          "base_uri": "https://localhost:8080/",
          "height": 51
        },
        "outputId": "c69b52b3-c199-4caa-edec-7ad90fdbb4b0"
      },
      "source": [
        "print('SVDpp - RMSE:', round(svdpp_gs.best_score['rmse'], 4), '; MAE:', round(svdpp_gs.best_score['mae'], 4))\n",
        "print('SVD   - RMSE:', round(svd_gs.best_score['rmse'], 4), '; MAE:', round(svd_gs.best_score['mae'], 4))"
      ],
      "execution_count": 76,
      "outputs": [
        {
          "output_type": "stream",
          "text": [
            "SVDpp - RMSE: 1.2487 ; MAE: 0.9978\n",
            "SVD   - RMSE: 1.2427 ; MAE: 0.9924\n"
          ],
          "name": "stdout"
        }
      ]
    },
    {
      "cell_type": "code",
      "metadata": {
        "id": "wGKQk-xsTUZP",
        "colab_type": "code",
        "colab": {
          "base_uri": "https://localhost:8080/",
          "height": 85
        },
        "outputId": "9ea0973e-d63b-4229-d541-a4e2daa48f19"
      },
      "source": [
        "print('RMSE =', svdpp_gs.best_params['rmse'])\n",
        "print('MAE =', svdpp_gs.best_params['mae'])\n",
        "print('RMSE =', svd_gs.best_params['rmse'])\n",
        "print('MAE =', svd_gs.best_params['mae'])"
      ],
      "execution_count": 77,
      "outputs": [
        {
          "output_type": "stream",
          "text": [
            "RMSE = {'n_epochs': 25, 'lr_all': 0.007, 'reg_all': 0.4}\n",
            "MAE = {'n_epochs': 25, 'lr_all': 0.009, 'reg_all': 0.4}\n",
            "RMSE = {'n_epochs': 25, 'lr_all': 0.01, 'reg_all': 0.4}\n",
            "MAE = {'n_epochs': 25, 'lr_all': 0.01, 'reg_all': 0.6}\n"
          ],
          "name": "stdout"
        }
      ]
    }
  ]
}